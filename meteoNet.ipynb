{
  "cells": [
    {
      "cell_type": "markdown",
      "metadata": {
        "id": "WDbSvqezghFM"
      },
      "source": [
        "# Deep Learning -  MeteoNet RNN's\n",
        "\n",
        "- Juan Sebastián Vargas"
      ]
    },
    {
      "cell_type": "markdown",
      "metadata": {
        "id": "nurlttEqZi4m"
      },
      "source": [
        "## Context\n",
        "\n",
        "MeteoNet (https://meteonet.umr-cnrm.fr/) is a data set published by the French meteorological service METEO FRANCE for the community to propose analyzes and models using climate data.\n",
        "\n",
        "Some of the data available on MeteoNet are the historical meteorological observations of sensors that measure temperature, humidity, pressure, wind in different stations located throughout the French territory. You can consult this link more about the data of meteorological observations (https://meteofrance.github.io/meteonet/english/data/ground-observations/)\n",
        "\n"
      ]
    },
    {
      "cell_type": "markdown",
      "metadata": {
        "id": "dFR5jgJisLx_"
      },
      "source": [
        "### Imports"
      ]
    },
    {
      "cell_type": "code",
      "execution_count": null,
      "metadata": {
        "colab": {
          "base_uri": "https://localhost:8080/"
        },
        "id": "Dn45GweICKtn",
        "outputId": "eeffbfd5-fdbb-41c4-8ce7-9ecf3eb02249"
      },
      "outputs": [
        {
          "output_type": "stream",
          "name": "stdout",
          "text": [
            "Looking in indexes: https://pypi.org/simple, https://us-python.pkg.dev/colab-wheels/public/simple/\n",
            "Collecting cartopy\n",
            "  Downloading Cartopy-0.21.1.tar.gz (10.9 MB)\n",
            "\u001b[2K     \u001b[90m━━━━━━━━━━━━━━━━━━━━━━━━━━━━━━━━━━━━━━━━\u001b[0m \u001b[32m10.9/10.9 MB\u001b[0m \u001b[31m66.8 MB/s\u001b[0m eta \u001b[36m0:00:00\u001b[0m\n",
            "\u001b[?25h  Installing build dependencies ... \u001b[?25l\u001b[?25hdone\n",
            "  Getting requirements to build wheel ... \u001b[?25l\u001b[?25hdone\n",
            "  Preparing metadata (pyproject.toml) ... \u001b[?25l\u001b[?25hdone\n",
            "Requirement already satisfied: numpy>=1.18 in /usr/local/lib/python3.9/dist-packages (from cartopy) (1.22.4)\n",
            "Requirement already satisfied: shapely>=1.6.4 in /usr/local/lib/python3.9/dist-packages (from cartopy) (2.0.1)\n",
            "Collecting pyproj>=3.0.0\n",
            "  Downloading pyproj-3.4.1-cp39-cp39-manylinux_2_17_x86_64.manylinux2014_x86_64.whl (7.7 MB)\n",
            "\u001b[2K     \u001b[90m━━━━━━━━━━━━━━━━━━━━━━━━━━━━━━━━━━━━━━━━\u001b[0m \u001b[32m7.7/7.7 MB\u001b[0m \u001b[31m123.5 MB/s\u001b[0m eta \u001b[36m0:00:00\u001b[0m\n",
            "\u001b[?25hCollecting pyshp>=2.1\n",
            "  Downloading pyshp-2.3.1-py2.py3-none-any.whl (46 kB)\n",
            "\u001b[2K     \u001b[90m━━━━━━━━━━━━━━━━━━━━━━━━━━━━━━━━━━━━━━━━\u001b[0m \u001b[32m46.5/46.5 KB\u001b[0m \u001b[31m6.9 MB/s\u001b[0m eta \u001b[36m0:00:00\u001b[0m\n",
            "\u001b[?25hRequirement already satisfied: matplotlib>=3.1 in /usr/local/lib/python3.9/dist-packages (from cartopy) (3.7.1)\n",
            "Requirement already satisfied: packaging>=20.0 in /usr/local/lib/python3.9/dist-packages (from matplotlib>=3.1->cartopy) (23.0)\n",
            "Requirement already satisfied: pillow>=6.2.0 in /usr/local/lib/python3.9/dist-packages (from matplotlib>=3.1->cartopy) (8.4.0)\n",
            "Requirement already satisfied: importlib-resources>=3.2.0 in /usr/local/lib/python3.9/dist-packages (from matplotlib>=3.1->cartopy) (5.12.0)\n",
            "Requirement already satisfied: contourpy>=1.0.1 in /usr/local/lib/python3.9/dist-packages (from matplotlib>=3.1->cartopy) (1.0.7)\n",
            "Requirement already satisfied: kiwisolver>=1.0.1 in /usr/local/lib/python3.9/dist-packages (from matplotlib>=3.1->cartopy) (1.4.4)\n",
            "Requirement already satisfied: fonttools>=4.22.0 in /usr/local/lib/python3.9/dist-packages (from matplotlib>=3.1->cartopy) (4.39.2)\n",
            "Requirement already satisfied: cycler>=0.10 in /usr/local/lib/python3.9/dist-packages (from matplotlib>=3.1->cartopy) (0.11.0)\n",
            "Requirement already satisfied: pyparsing>=2.3.1 in /usr/local/lib/python3.9/dist-packages (from matplotlib>=3.1->cartopy) (3.0.9)\n",
            "Requirement already satisfied: python-dateutil>=2.7 in /usr/local/lib/python3.9/dist-packages (from matplotlib>=3.1->cartopy) (2.8.2)\n",
            "Requirement already satisfied: certifi in /usr/local/lib/python3.9/dist-packages (from pyproj>=3.0.0->cartopy) (2022.12.7)\n",
            "Requirement already satisfied: zipp>=3.1.0 in /usr/local/lib/python3.9/dist-packages (from importlib-resources>=3.2.0->matplotlib>=3.1->cartopy) (3.15.0)\n",
            "Requirement already satisfied: six>=1.5 in /usr/local/lib/python3.9/dist-packages (from python-dateutil>=2.7->matplotlib>=3.1->cartopy) (1.16.0)\n",
            "Building wheels for collected packages: cartopy\n",
            "  Building wheel for cartopy (pyproject.toml) ... \u001b[?25l\u001b[?25hdone\n",
            "  Created wheel for cartopy: filename=Cartopy-0.21.1-cp39-cp39-linux_x86_64.whl size=11113634 sha256=c02ce57e49bf84413b36876a5f75dde3ed7e87a8ee8b264f09031a9218db87ca\n",
            "  Stored in directory: /root/.cache/pip/wheels/74/b9/f5/2c94acd7cd21480e6cf63169144d7aac3e8d9cf638225ed578\n",
            "Successfully built cartopy\n",
            "Installing collected packages: pyshp, pyproj, cartopy\n",
            "Successfully installed cartopy-0.21.1 pyproj-3.4.1 pyshp-2.3.1\n"
          ]
        }
      ],
      "source": [
        "pip install cartopy"
      ]
    },
    {
      "cell_type": "code",
      "execution_count": null,
      "metadata": {
        "id": "S13zoCYRYuV6"
      },
      "outputs": [],
      "source": [
        "import pandas as pd\n",
        "from google.colab import drive\n",
        "import math\n",
        "import matplotlib.pyplot as plt\n",
        "import cartopy.crs as ccrs\n",
        "import cartopy.feature as cfeature\n",
        "from IPython.display import clear_output\n",
        "from sklearn.preprocessing import StandardScaler\n",
        "import numpy as np\n",
        "import tensorflow as tf\n",
        "from tensorflow.keras import activations\n",
        "from tensorflow.keras.callbacks import EarlyStopping, ModelCheckpoint\n",
        "from sklearn.metrics import mean_squared_error,mean_absolute_error\n",
        "from tables import index\n",
        "import seaborn as sns"
      ]
    },
    {
      "cell_type": "markdown",
      "metadata": {
        "id": "h1nOFyQ7CB1-"
      },
      "source": [
        "### Mount Drive"
      ]
    },
    {
      "cell_type": "code",
      "execution_count": null,
      "metadata": {
        "colab": {
          "base_uri": "https://localhost:8080/"
        },
        "id": "0vl0oCIessMX",
        "outputId": "1789babe-e35c-496c-eae5-af96f1bd625c"
      },
      "outputs": [
        {
          "output_type": "stream",
          "name": "stdout",
          "text": [
            "Mounted at /content/drive\n"
          ]
        }
      ],
      "source": [
        "drive.mount('/content/drive')"
      ]
    },
    {
      "cell_type": "markdown",
      "metadata": {
        "id": "IJFJnhrvCwB7"
      },
      "source": [
        "### Util Fuctions"
      ]
    },
    {
      "cell_type": "code",
      "execution_count": null,
      "metadata": {
        "id": "Kw1LzGvpCynY"
      },
      "outputs": [],
      "source": [
        "def getBestNanStationProportion(stations_df):\n",
        "  stations = stations_df[\"number_sta\"].unique()\n",
        "  smallestNullRatio=math.inf\n",
        "  selectedStationId=0\n",
        "  for station in stations:\n",
        "    selectedStation =  stations_df.loc[(stations_df[\"number_sta\"]==station)]\n",
        "    totalNans = selectedStation.isna().sum().sum()\n",
        "    ratio=totalNans/selectedStation.shape[0]*selectedStation.shape[1]\n",
        "    #print(f\"Station #{station}, has {totalNans} Null values , shape: {selectedStation.shape[0]}, Null ration: {ratio}\")\n",
        "    if(ratio<smallestNullRatio):\n",
        "      smallestNullRatio=ratio\n",
        "      selectedStationId=station\n",
        "  return selectedStationId"
      ]
    },
    {
      "cell_type": "code",
      "execution_count": null,
      "metadata": {
        "id": "BYz90EkgvdHN"
      },
      "outputs": [],
      "source": [
        "def  getLimitsAndMedian(attribute, n=1.5):\n",
        "\n",
        "  # Cuartil 1\n",
        "  q1 = attribute.quantile(0.25)\n",
        "\n",
        "  # Cuartil 3\n",
        "  q3 = attribute.quantile(0.75)\n",
        "\n",
        "  med = attribute.median()\n",
        "\n",
        "  # IQR\n",
        "  iqr = q3-q1\n",
        "\n",
        "  upper_bound = q3+(n*iqr)\n",
        "  lower_bound = q1-(n*iqr)\n",
        "\n",
        "  print(\"Q1: \",q1,\" Q3: \", q3,\" Median: \", med,\" IQR: \", iqr)\n",
        "  return upper_bound, lower_bound, med"
      ]
    },
    {
      "cell_type": "code",
      "execution_count": null,
      "metadata": {
        "id": "_T3otVufC1Cd"
      },
      "outputs": [],
      "source": [
        "def plot_temperature_evolution(selectedStationDf):\n",
        "  plot_temp= selectedStationDf[\"t\"]\n",
        "  plot_temp.index=selectedStationDf[\"date\"]\n",
        "  plt.figure(figsize=(10,5))\n",
        "  plt.ylabel('Temperature (K)')\n",
        "  plt.title('Temperature evolution of the station '+str(selectedStatitonId))\n",
        "  plot_temp.plot(subplots=True, color=\"orange\")\n",
        "  plt.show()"
      ]
    },
    {
      "cell_type": "code",
      "execution_count": null,
      "metadata": {
        "id": "5bF5EZQvDRoS"
      },
      "outputs": [],
      "source": [
        "def plot_precipitation_evolution(selectedStationDf):\n",
        "  plot_precip= selectedStationDf[\"precip\"]\n",
        "  plot_precip.index=selectedStationDf[\"date\"]\n",
        "  plt.figure(figsize=(10,5))\n",
        "  plt.ylabel('Precipitation (kg.m2)')\n",
        "  plt.title('Precipitation evolution of the station '+str(selectedStatitonId))\n",
        "  plot_precip.plot(subplots=True, color=\"blue\")\n",
        "  plt.show()"
      ]
    },
    {
      "cell_type": "markdown",
      "metadata": {
        "id": "c5Tg0n5msu07"
      },
      "source": [
        "### Reading Data\n"
      ]
    },
    {
      "cell_type": "markdown",
      "metadata": {
        "id": "EMNR266A3568"
      },
      "source": [
        "#### One year data\n",
        "This is useful if you don´t have enough RAM, so can do the forcasting base on just one year."
      ]
    },
    {
      "cell_type": "code",
      "execution_count": null,
      "metadata": {
        "id": "xPxvgGos4SD9"
      },
      "outputs": [],
      "source": [
        "# YEAR =2018\n",
        "# year_data_path = f'/content/drive/MyDrive/RNN_Weather_data/NW{YEAR}.csv'\n",
        "# cols = ['number_sta','lat','lon','date','height_sta','dd','ff','precip','hu','td','t','psl']"
      ]
    },
    {
      "cell_type": "code",
      "execution_count": null,
      "metadata": {
        "id": "kndVbGfd4XFq"
      },
      "outputs": [],
      "source": [
        "#df= pd.read_csv(year_data_path,usecols = cols, parse_dates=['date'],infer_datetime_format=True)"
      ]
    },
    {
      "cell_type": "markdown",
      "metadata": {
        "id": "Sq5AT80cXLvr"
      },
      "source": [
        "#### Separated data\n",
        "This is just in case you don´t have the complete data, instead run \"merge data\""
      ]
    },
    {
      "cell_type": "code",
      "execution_count": null,
      "metadata": {
        "id": "0wPfOO2-sSjZ"
      },
      "outputs": [],
      "source": [
        "data_2016_path = '/content/drive/MyDrive/RNN_Weather_data/NW2016.csv'\n",
        "data_2017_path = '/content/drive/MyDrive/RNN_Weather_data/NW2017.csv'\n",
        "data_2018_path = '/content/drive/MyDrive/RNN_Weather_data/NW2018.csv'"
      ]
    },
    {
      "cell_type": "code",
      "execution_count": null,
      "metadata": {
        "id": "qCFRguXhzBnh"
      },
      "outputs": [],
      "source": [
        "cols = ['number_sta','lat','lon','date','height_sta','dd','ff','precip','hu','td','t','psl']    # columns we need in the array\n",
        "\n",
        "# df = pd.concat([pd.read_csv(data_2017_path,usecols = cols, parse_dates=['date'],infer_datetime_format=True),\n",
        "#                 pd.read_csv(data_2018_path,usecols = cols,parse_dates=['date'],infer_datetime_format=True)], axis=0)\n",
        "\n",
        "df = pd.concat([pd.read_csv(data_2016_path,usecols = cols, parse_dates=['date'],infer_datetime_format=True),\n",
        "                pd.read_csv(data_2017_path,usecols = cols, parse_dates=['date'],infer_datetime_format=True),\n",
        "                pd.read_csv(data_2018_path,usecols = cols,parse_dates=['date'],infer_datetime_format=True)], axis=0)"
      ]
    },
    {
      "cell_type": "code",
      "execution_count": null,
      "metadata": {
        "id": "ssOv8ThlWg9l"
      },
      "outputs": [],
      "source": [
        "# file_path = '/content/drive/MyDrive/RNN_Weather_data/CompleteStationsData.csv'\n",
        "# df.to_csv(file_path, index=False)"
      ]
    },
    {
      "cell_type": "markdown",
      "metadata": {
        "id": "LqRe2NGmW2v3"
      },
      "source": [
        "#### Merge data\n",
        "Data that was merged from the three files, it contains all the data of all the stations in one file. (Make sure to have enough RAM >25GB)"
      ]
    },
    {
      "cell_type": "code",
      "execution_count": null,
      "metadata": {
        "id": "HVRnUGiyXBno"
      },
      "outputs": [],
      "source": [
        "# file_path = '/content/drive/MyDrive/RNN_Weather_data/CompleteStationsData.csv'\n",
        "# df=pd.read_csv(file_path)"
      ]
    },
    {
      "cell_type": "markdown",
      "metadata": {
        "id": "LW4IqD4Vt4uy"
      },
      "source": [
        "### Exploring Data"
      ]
    },
    {
      "cell_type": "code",
      "execution_count": null,
      "metadata": {
        "colab": {
          "base_uri": "https://localhost:8080/"
        },
        "id": "0N3shrlM052m",
        "outputId": "84871f80-78f7-430e-eea5-09f58f48990a"
      },
      "outputs": [
        {
          "output_type": "execute_result",
          "data": {
            "text/plain": [
              "(65826837, 12)"
            ]
          },
          "metadata": {},
          "execution_count": 14
        }
      ],
      "source": [
        "df.shape"
      ]
    },
    {
      "cell_type": "code",
      "execution_count": null,
      "metadata": {
        "colab": {
          "base_uri": "https://localhost:8080/",
          "height": 206
        },
        "id": "P8kyG5e709jD",
        "outputId": "00a4d5c6-690c-4448-8488-dc1f01499242"
      },
      "outputs": [
        {
          "output_type": "execute_result",
          "data": {
            "text/plain": [
              "   number_sta    lat   lon  height_sta       date     dd   ff  precip    hu  \\\n",
              "0    14066001  49.33 -0.43         2.0 2016-01-01  210.0  4.4     0.0  91.0   \n",
              "1    14126001  49.15  0.04       125.0 2016-01-01    NaN  NaN     0.0  99.0   \n",
              "2    14137001  49.18 -0.46        67.0 2016-01-01  220.0  0.6     0.0  92.0   \n",
              "3    14216001  48.93 -0.15       155.0 2016-01-01  220.0  1.9     0.0  95.0   \n",
              "4    14296001  48.80 -1.03       339.0 2016-01-01    NaN  NaN     0.0   NaN   \n",
              "\n",
              "       td       t       psl  \n",
              "0  278.45  279.85       NaN  \n",
              "1  278.35  278.45       NaN  \n",
              "2  276.45  277.65  102360.0  \n",
              "3  278.25  278.95       NaN  \n",
              "4     NaN  278.35       NaN  "
            ],
            "text/html": [
              "\n",
              "  <div id=\"df-e68cfbbb-cf08-4f37-9399-adbc93744b56\">\n",
              "    <div class=\"colab-df-container\">\n",
              "      <div>\n",
              "<style scoped>\n",
              "    .dataframe tbody tr th:only-of-type {\n",
              "        vertical-align: middle;\n",
              "    }\n",
              "\n",
              "    .dataframe tbody tr th {\n",
              "        vertical-align: top;\n",
              "    }\n",
              "\n",
              "    .dataframe thead th {\n",
              "        text-align: right;\n",
              "    }\n",
              "</style>\n",
              "<table border=\"1\" class=\"dataframe\">\n",
              "  <thead>\n",
              "    <tr style=\"text-align: right;\">\n",
              "      <th></th>\n",
              "      <th>number_sta</th>\n",
              "      <th>lat</th>\n",
              "      <th>lon</th>\n",
              "      <th>height_sta</th>\n",
              "      <th>date</th>\n",
              "      <th>dd</th>\n",
              "      <th>ff</th>\n",
              "      <th>precip</th>\n",
              "      <th>hu</th>\n",
              "      <th>td</th>\n",
              "      <th>t</th>\n",
              "      <th>psl</th>\n",
              "    </tr>\n",
              "  </thead>\n",
              "  <tbody>\n",
              "    <tr>\n",
              "      <th>0</th>\n",
              "      <td>14066001</td>\n",
              "      <td>49.33</td>\n",
              "      <td>-0.43</td>\n",
              "      <td>2.0</td>\n",
              "      <td>2016-01-01</td>\n",
              "      <td>210.0</td>\n",
              "      <td>4.4</td>\n",
              "      <td>0.0</td>\n",
              "      <td>91.0</td>\n",
              "      <td>278.45</td>\n",
              "      <td>279.85</td>\n",
              "      <td>NaN</td>\n",
              "    </tr>\n",
              "    <tr>\n",
              "      <th>1</th>\n",
              "      <td>14126001</td>\n",
              "      <td>49.15</td>\n",
              "      <td>0.04</td>\n",
              "      <td>125.0</td>\n",
              "      <td>2016-01-01</td>\n",
              "      <td>NaN</td>\n",
              "      <td>NaN</td>\n",
              "      <td>0.0</td>\n",
              "      <td>99.0</td>\n",
              "      <td>278.35</td>\n",
              "      <td>278.45</td>\n",
              "      <td>NaN</td>\n",
              "    </tr>\n",
              "    <tr>\n",
              "      <th>2</th>\n",
              "      <td>14137001</td>\n",
              "      <td>49.18</td>\n",
              "      <td>-0.46</td>\n",
              "      <td>67.0</td>\n",
              "      <td>2016-01-01</td>\n",
              "      <td>220.0</td>\n",
              "      <td>0.6</td>\n",
              "      <td>0.0</td>\n",
              "      <td>92.0</td>\n",
              "      <td>276.45</td>\n",
              "      <td>277.65</td>\n",
              "      <td>102360.0</td>\n",
              "    </tr>\n",
              "    <tr>\n",
              "      <th>3</th>\n",
              "      <td>14216001</td>\n",
              "      <td>48.93</td>\n",
              "      <td>-0.15</td>\n",
              "      <td>155.0</td>\n",
              "      <td>2016-01-01</td>\n",
              "      <td>220.0</td>\n",
              "      <td>1.9</td>\n",
              "      <td>0.0</td>\n",
              "      <td>95.0</td>\n",
              "      <td>278.25</td>\n",
              "      <td>278.95</td>\n",
              "      <td>NaN</td>\n",
              "    </tr>\n",
              "    <tr>\n",
              "      <th>4</th>\n",
              "      <td>14296001</td>\n",
              "      <td>48.80</td>\n",
              "      <td>-1.03</td>\n",
              "      <td>339.0</td>\n",
              "      <td>2016-01-01</td>\n",
              "      <td>NaN</td>\n",
              "      <td>NaN</td>\n",
              "      <td>0.0</td>\n",
              "      <td>NaN</td>\n",
              "      <td>NaN</td>\n",
              "      <td>278.35</td>\n",
              "      <td>NaN</td>\n",
              "    </tr>\n",
              "  </tbody>\n",
              "</table>\n",
              "</div>\n",
              "      <button class=\"colab-df-convert\" onclick=\"convertToInteractive('df-e68cfbbb-cf08-4f37-9399-adbc93744b56')\"\n",
              "              title=\"Convert this dataframe to an interactive table.\"\n",
              "              style=\"display:none;\">\n",
              "        \n",
              "  <svg xmlns=\"http://www.w3.org/2000/svg\" height=\"24px\"viewBox=\"0 0 24 24\"\n",
              "       width=\"24px\">\n",
              "    <path d=\"M0 0h24v24H0V0z\" fill=\"none\"/>\n",
              "    <path d=\"M18.56 5.44l.94 2.06.94-2.06 2.06-.94-2.06-.94-.94-2.06-.94 2.06-2.06.94zm-11 1L8.5 8.5l.94-2.06 2.06-.94-2.06-.94L8.5 2.5l-.94 2.06-2.06.94zm10 10l.94 2.06.94-2.06 2.06-.94-2.06-.94-.94-2.06-.94 2.06-2.06.94z\"/><path d=\"M17.41 7.96l-1.37-1.37c-.4-.4-.92-.59-1.43-.59-.52 0-1.04.2-1.43.59L10.3 9.45l-7.72 7.72c-.78.78-.78 2.05 0 2.83L4 21.41c.39.39.9.59 1.41.59.51 0 1.02-.2 1.41-.59l7.78-7.78 2.81-2.81c.8-.78.8-2.07 0-2.86zM5.41 20L4 18.59l7.72-7.72 1.47 1.35L5.41 20z\"/>\n",
              "  </svg>\n",
              "      </button>\n",
              "      \n",
              "  <style>\n",
              "    .colab-df-container {\n",
              "      display:flex;\n",
              "      flex-wrap:wrap;\n",
              "      gap: 12px;\n",
              "    }\n",
              "\n",
              "    .colab-df-convert {\n",
              "      background-color: #E8F0FE;\n",
              "      border: none;\n",
              "      border-radius: 50%;\n",
              "      cursor: pointer;\n",
              "      display: none;\n",
              "      fill: #1967D2;\n",
              "      height: 32px;\n",
              "      padding: 0 0 0 0;\n",
              "      width: 32px;\n",
              "    }\n",
              "\n",
              "    .colab-df-convert:hover {\n",
              "      background-color: #E2EBFA;\n",
              "      box-shadow: 0px 1px 2px rgba(60, 64, 67, 0.3), 0px 1px 3px 1px rgba(60, 64, 67, 0.15);\n",
              "      fill: #174EA6;\n",
              "    }\n",
              "\n",
              "    [theme=dark] .colab-df-convert {\n",
              "      background-color: #3B4455;\n",
              "      fill: #D2E3FC;\n",
              "    }\n",
              "\n",
              "    [theme=dark] .colab-df-convert:hover {\n",
              "      background-color: #434B5C;\n",
              "      box-shadow: 0px 1px 3px 1px rgba(0, 0, 0, 0.15);\n",
              "      filter: drop-shadow(0px 1px 2px rgba(0, 0, 0, 0.3));\n",
              "      fill: #FFFFFF;\n",
              "    }\n",
              "  </style>\n",
              "\n",
              "      <script>\n",
              "        const buttonEl =\n",
              "          document.querySelector('#df-e68cfbbb-cf08-4f37-9399-adbc93744b56 button.colab-df-convert');\n",
              "        buttonEl.style.display =\n",
              "          google.colab.kernel.accessAllowed ? 'block' : 'none';\n",
              "\n",
              "        async function convertToInteractive(key) {\n",
              "          const element = document.querySelector('#df-e68cfbbb-cf08-4f37-9399-adbc93744b56');\n",
              "          const dataTable =\n",
              "            await google.colab.kernel.invokeFunction('convertToInteractive',\n",
              "                                                     [key], {});\n",
              "          if (!dataTable) return;\n",
              "\n",
              "          const docLinkHtml = 'Like what you see? Visit the ' +\n",
              "            '<a target=\"_blank\" href=https://colab.research.google.com/notebooks/data_table.ipynb>data table notebook</a>'\n",
              "            + ' to learn more about interactive tables.';\n",
              "          element.innerHTML = '';\n",
              "          dataTable['output_type'] = 'display_data';\n",
              "          await google.colab.output.renderOutput(dataTable, element);\n",
              "          const docLink = document.createElement('div');\n",
              "          docLink.innerHTML = docLinkHtml;\n",
              "          element.appendChild(docLink);\n",
              "        }\n",
              "      </script>\n",
              "    </div>\n",
              "  </div>\n",
              "  "
            ]
          },
          "metadata": {},
          "execution_count": 15
        }
      ],
      "source": [
        "df.head(5)"
      ]
    },
    {
      "cell_type": "code",
      "execution_count": null,
      "metadata": {
        "id": "NBnmrVR63oew"
      },
      "outputs": [],
      "source": [
        "#selectedStatitonId = getBestNanStationProportion(df)\n",
        "selectedStatitonId = 53130008"
      ]
    },
    {
      "cell_type": "code",
      "execution_count": null,
      "metadata": {
        "colab": {
          "base_uri": "https://localhost:8080/"
        },
        "id": "IpDyK5UV2Qvf",
        "outputId": "28fc7ca2-c477-42b9-9ef9-52f80085739f"
      },
      "outputs": [
        {
          "output_type": "execute_result",
          "data": {
            "text/plain": [
              "170412499"
            ]
          },
          "metadata": {},
          "execution_count": 17
        }
      ],
      "source": [
        "df.isna().sum().sum()"
      ]
    },
    {
      "cell_type": "code",
      "execution_count": null,
      "metadata": {
        "colab": {
          "base_uri": "https://localhost:8080/"
        },
        "id": "vbEkNv8T2fDq",
        "outputId": "bf194b56-15c3-42a2-c689-1194a09ee82c"
      },
      "outputs": [
        {
          "output_type": "execute_result",
          "data": {
            "text/plain": [
              "number_sta           0\n",
              "lat                  0\n",
              "lon                  0\n",
              "height_sta           0\n",
              "date                 0\n",
              "dd            25862210\n",
              "ff            25839526\n",
              "precip         3778807\n",
              "hu            26438641\n",
              "td            26458088\n",
              "t              9438123\n",
              "psl           52597104\n",
              "dtype: int64"
            ]
          },
          "metadata": {},
          "execution_count": 18
        }
      ],
      "source": [
        "df.isna().sum()"
      ]
    },
    {
      "cell_type": "code",
      "execution_count": null,
      "metadata": {
        "id": "PnYVN_Uy1exd"
      },
      "outputs": [],
      "source": [
        "selected_station_df= df.loc[(df[\"number_sta\"]==selectedStatitonId)]"
      ]
    },
    {
      "cell_type": "code",
      "execution_count": null,
      "metadata": {
        "colab": {
          "base_uri": "https://localhost:8080/"
        },
        "id": "LD2nZhOf1yNi",
        "outputId": "5483b7af-4fe9-4831-c66d-b279f86854ce"
      },
      "outputs": [
        {
          "output_type": "execute_result",
          "data": {
            "text/plain": [
              "(261853, 12)"
            ]
          },
          "metadata": {},
          "execution_count": 20
        }
      ],
      "source": [
        "selected_station_df.shape"
      ]
    },
    {
      "cell_type": "code",
      "execution_count": null,
      "metadata": {
        "colab": {
          "base_uri": "https://localhost:8080/",
          "height": 337
        },
        "id": "gxGOpfbU125R",
        "outputId": "d80254f1-b8de-4efc-aff3-6aae08fb5c59"
      },
      "outputs": [
        {
          "output_type": "execute_result",
          "data": {
            "text/plain": [
              "      number_sta    lat   lon  height_sta                date     dd   ff  \\\n",
              "150     53130008  48.03 -0.75       100.0 2016-01-01 00:00:00  170.0  1.9   \n",
              "398     53130008  48.03 -0.75       100.0 2016-01-01 00:06:00  160.0  1.8   \n",
              "647     53130008  48.03 -0.75       100.0 2016-01-01 00:12:00  160.0  1.9   \n",
              "895     53130008  48.03 -0.75       100.0 2016-01-01 00:18:00  160.0  1.7   \n",
              "1144    53130008  48.03 -0.75       100.0 2016-01-01 00:24:00  170.0  1.5   \n",
              "\n",
              "      precip    hu      td       t       psl  \n",
              "150      0.0  96.0  279.55  280.15  102360.0  \n",
              "398      0.0  96.0  279.35  279.95  102380.0  \n",
              "647      0.0  96.0  279.35  279.95  102360.0  \n",
              "895      0.0  97.0  279.55  279.95  102360.0  \n",
              "1144     0.0  97.0  279.65  280.05  102350.0  "
            ],
            "text/html": [
              "\n",
              "  <div id=\"df-a07737bb-556a-41bd-abc1-5f9266ac1214\">\n",
              "    <div class=\"colab-df-container\">\n",
              "      <div>\n",
              "<style scoped>\n",
              "    .dataframe tbody tr th:only-of-type {\n",
              "        vertical-align: middle;\n",
              "    }\n",
              "\n",
              "    .dataframe tbody tr th {\n",
              "        vertical-align: top;\n",
              "    }\n",
              "\n",
              "    .dataframe thead th {\n",
              "        text-align: right;\n",
              "    }\n",
              "</style>\n",
              "<table border=\"1\" class=\"dataframe\">\n",
              "  <thead>\n",
              "    <tr style=\"text-align: right;\">\n",
              "      <th></th>\n",
              "      <th>number_sta</th>\n",
              "      <th>lat</th>\n",
              "      <th>lon</th>\n",
              "      <th>height_sta</th>\n",
              "      <th>date</th>\n",
              "      <th>dd</th>\n",
              "      <th>ff</th>\n",
              "      <th>precip</th>\n",
              "      <th>hu</th>\n",
              "      <th>td</th>\n",
              "      <th>t</th>\n",
              "      <th>psl</th>\n",
              "    </tr>\n",
              "  </thead>\n",
              "  <tbody>\n",
              "    <tr>\n",
              "      <th>150</th>\n",
              "      <td>53130008</td>\n",
              "      <td>48.03</td>\n",
              "      <td>-0.75</td>\n",
              "      <td>100.0</td>\n",
              "      <td>2016-01-01 00:00:00</td>\n",
              "      <td>170.0</td>\n",
              "      <td>1.9</td>\n",
              "      <td>0.0</td>\n",
              "      <td>96.0</td>\n",
              "      <td>279.55</td>\n",
              "      <td>280.15</td>\n",
              "      <td>102360.0</td>\n",
              "    </tr>\n",
              "    <tr>\n",
              "      <th>398</th>\n",
              "      <td>53130008</td>\n",
              "      <td>48.03</td>\n",
              "      <td>-0.75</td>\n",
              "      <td>100.0</td>\n",
              "      <td>2016-01-01 00:06:00</td>\n",
              "      <td>160.0</td>\n",
              "      <td>1.8</td>\n",
              "      <td>0.0</td>\n",
              "      <td>96.0</td>\n",
              "      <td>279.35</td>\n",
              "      <td>279.95</td>\n",
              "      <td>102380.0</td>\n",
              "    </tr>\n",
              "    <tr>\n",
              "      <th>647</th>\n",
              "      <td>53130008</td>\n",
              "      <td>48.03</td>\n",
              "      <td>-0.75</td>\n",
              "      <td>100.0</td>\n",
              "      <td>2016-01-01 00:12:00</td>\n",
              "      <td>160.0</td>\n",
              "      <td>1.9</td>\n",
              "      <td>0.0</td>\n",
              "      <td>96.0</td>\n",
              "      <td>279.35</td>\n",
              "      <td>279.95</td>\n",
              "      <td>102360.0</td>\n",
              "    </tr>\n",
              "    <tr>\n",
              "      <th>895</th>\n",
              "      <td>53130008</td>\n",
              "      <td>48.03</td>\n",
              "      <td>-0.75</td>\n",
              "      <td>100.0</td>\n",
              "      <td>2016-01-01 00:18:00</td>\n",
              "      <td>160.0</td>\n",
              "      <td>1.7</td>\n",
              "      <td>0.0</td>\n",
              "      <td>97.0</td>\n",
              "      <td>279.55</td>\n",
              "      <td>279.95</td>\n",
              "      <td>102360.0</td>\n",
              "    </tr>\n",
              "    <tr>\n",
              "      <th>1144</th>\n",
              "      <td>53130008</td>\n",
              "      <td>48.03</td>\n",
              "      <td>-0.75</td>\n",
              "      <td>100.0</td>\n",
              "      <td>2016-01-01 00:24:00</td>\n",
              "      <td>170.0</td>\n",
              "      <td>1.5</td>\n",
              "      <td>0.0</td>\n",
              "      <td>97.0</td>\n",
              "      <td>279.65</td>\n",
              "      <td>280.05</td>\n",
              "      <td>102350.0</td>\n",
              "    </tr>\n",
              "  </tbody>\n",
              "</table>\n",
              "</div>\n",
              "      <button class=\"colab-df-convert\" onclick=\"convertToInteractive('df-a07737bb-556a-41bd-abc1-5f9266ac1214')\"\n",
              "              title=\"Convert this dataframe to an interactive table.\"\n",
              "              style=\"display:none;\">\n",
              "        \n",
              "  <svg xmlns=\"http://www.w3.org/2000/svg\" height=\"24px\"viewBox=\"0 0 24 24\"\n",
              "       width=\"24px\">\n",
              "    <path d=\"M0 0h24v24H0V0z\" fill=\"none\"/>\n",
              "    <path d=\"M18.56 5.44l.94 2.06.94-2.06 2.06-.94-2.06-.94-.94-2.06-.94 2.06-2.06.94zm-11 1L8.5 8.5l.94-2.06 2.06-.94-2.06-.94L8.5 2.5l-.94 2.06-2.06.94zm10 10l.94 2.06.94-2.06 2.06-.94-2.06-.94-.94-2.06-.94 2.06-2.06.94z\"/><path d=\"M17.41 7.96l-1.37-1.37c-.4-.4-.92-.59-1.43-.59-.52 0-1.04.2-1.43.59L10.3 9.45l-7.72 7.72c-.78.78-.78 2.05 0 2.83L4 21.41c.39.39.9.59 1.41.59.51 0 1.02-.2 1.41-.59l7.78-7.78 2.81-2.81c.8-.78.8-2.07 0-2.86zM5.41 20L4 18.59l7.72-7.72 1.47 1.35L5.41 20z\"/>\n",
              "  </svg>\n",
              "      </button>\n",
              "      \n",
              "  <style>\n",
              "    .colab-df-container {\n",
              "      display:flex;\n",
              "      flex-wrap:wrap;\n",
              "      gap: 12px;\n",
              "    }\n",
              "\n",
              "    .colab-df-convert {\n",
              "      background-color: #E8F0FE;\n",
              "      border: none;\n",
              "      border-radius: 50%;\n",
              "      cursor: pointer;\n",
              "      display: none;\n",
              "      fill: #1967D2;\n",
              "      height: 32px;\n",
              "      padding: 0 0 0 0;\n",
              "      width: 32px;\n",
              "    }\n",
              "\n",
              "    .colab-df-convert:hover {\n",
              "      background-color: #E2EBFA;\n",
              "      box-shadow: 0px 1px 2px rgba(60, 64, 67, 0.3), 0px 1px 3px 1px rgba(60, 64, 67, 0.15);\n",
              "      fill: #174EA6;\n",
              "    }\n",
              "\n",
              "    [theme=dark] .colab-df-convert {\n",
              "      background-color: #3B4455;\n",
              "      fill: #D2E3FC;\n",
              "    }\n",
              "\n",
              "    [theme=dark] .colab-df-convert:hover {\n",
              "      background-color: #434B5C;\n",
              "      box-shadow: 0px 1px 3px 1px rgba(0, 0, 0, 0.15);\n",
              "      filter: drop-shadow(0px 1px 2px rgba(0, 0, 0, 0.3));\n",
              "      fill: #FFFFFF;\n",
              "    }\n",
              "  </style>\n",
              "\n",
              "      <script>\n",
              "        const buttonEl =\n",
              "          document.querySelector('#df-a07737bb-556a-41bd-abc1-5f9266ac1214 button.colab-df-convert');\n",
              "        buttonEl.style.display =\n",
              "          google.colab.kernel.accessAllowed ? 'block' : 'none';\n",
              "\n",
              "        async function convertToInteractive(key) {\n",
              "          const element = document.querySelector('#df-a07737bb-556a-41bd-abc1-5f9266ac1214');\n",
              "          const dataTable =\n",
              "            await google.colab.kernel.invokeFunction('convertToInteractive',\n",
              "                                                     [key], {});\n",
              "          if (!dataTable) return;\n",
              "\n",
              "          const docLinkHtml = 'Like what you see? Visit the ' +\n",
              "            '<a target=\"_blank\" href=https://colab.research.google.com/notebooks/data_table.ipynb>data table notebook</a>'\n",
              "            + ' to learn more about interactive tables.';\n",
              "          element.innerHTML = '';\n",
              "          dataTable['output_type'] = 'display_data';\n",
              "          await google.colab.output.renderOutput(dataTable, element);\n",
              "          const docLink = document.createElement('div');\n",
              "          docLink.innerHTML = docLinkHtml;\n",
              "          element.appendChild(docLink);\n",
              "        }\n",
              "      </script>\n",
              "    </div>\n",
              "  </div>\n",
              "  "
            ]
          },
          "metadata": {},
          "execution_count": 21
        }
      ],
      "source": [
        "selected_station_df.head(5)"
      ]
    },
    {
      "cell_type": "code",
      "execution_count": null,
      "metadata": {
        "colab": {
          "base_uri": "https://localhost:8080/"
        },
        "id": "BgzXwuNy2HS9",
        "outputId": "19e81e39-2657-47fd-892f-9b95cc39f9ff"
      },
      "outputs": [
        {
          "output_type": "execute_result",
          "data": {
            "text/plain": [
              "number_sta     0\n",
              "lat            0\n",
              "lon            0\n",
              "height_sta     0\n",
              "date           0\n",
              "dd            23\n",
              "ff            23\n",
              "precip        36\n",
              "hu            11\n",
              "td            12\n",
              "t             12\n",
              "psl           12\n",
              "dtype: int64"
            ]
          },
          "metadata": {},
          "execution_count": 22
        }
      ],
      "source": [
        "selected_station_df.isna().sum()"
      ]
    },
    {
      "cell_type": "code",
      "execution_count": null,
      "metadata": {
        "colab": {
          "base_uri": "https://localhost:8080/"
        },
        "id": "5Rv53aEN9q9P",
        "outputId": "8434ab14-333f-43f6-be6f-2894365f96cd"
      },
      "outputs": [
        {
          "output_type": "execute_result",
          "data": {
            "text/plain": [
              "number_sta             int64\n",
              "lat                  float64\n",
              "lon                  float64\n",
              "height_sta           float64\n",
              "date          datetime64[ns]\n",
              "dd                   float64\n",
              "ff                   float64\n",
              "precip               float64\n",
              "hu                   float64\n",
              "td                   float64\n",
              "t                    float64\n",
              "psl                  float64\n",
              "dtype: object"
            ]
          },
          "metadata": {},
          "execution_count": 23
        }
      ],
      "source": [
        "selected_station_df.dtypes"
      ]
    },
    {
      "cell_type": "code",
      "execution_count": null,
      "metadata": {
        "colab": {
          "base_uri": "https://localhost:8080/",
          "height": 350
        },
        "id": "P1F69aznAGE0",
        "outputId": "8b216048-7e46-4f8c-d6f8-999f8f0e0490"
      },
      "outputs": [
        {
          "output_type": "display_data",
          "data": {
            "text/plain": [
              "<Figure size 720x360 with 1 Axes>"
            ],
            "image/png": "[encoded data removed]"
          },
          "metadata": {
            "needs_background": "light"
          }
        }
      ],
      "source": [
        "plot_temperature_evolution(selected_station_df)"
      ]
    },
    {
      "cell_type": "code",
      "execution_count": null,
      "metadata": {
        "colab": {
          "base_uri": "https://localhost:8080/",
          "height": 350
        },
        "id": "S6BXo6obDh0e",
        "outputId": "67e87f73-1862-4262-f3de-a7b7e3bb39ae"
      },
      "outputs": [
        {
          "output_type": "display_data",
          "data": {
            "text/plain": [
              "<Figure size 720x360 with 1 Axes>"
            ],
            "image/png": "[encoded data removed]"
          },
          "metadata": {
            "needs_background": "light"
          }
        }
      ],
      "source": [
        "plot_precipitation_evolution(selected_station_df)"
      ]
    },
    {
      "cell_type": "code",
      "execution_count": null,
      "metadata": {
        "colab": {
          "base_uri": "https://localhost:8080/",
          "height": 295
        },
        "id": "0fSzv98HBe7y",
        "outputId": "a3a8379d-3b30-403b-f25f-f3169505d2fd"
      },
      "outputs": [
        {
          "output_type": "display_data",
          "data": {
            "text/plain": [
              "<Figure size 432x288 with 2 Axes>"
            ],
            "image/png": "[encoded data removed]"
          },
          "metadata": {
            "needs_background": "light"
          }
        }
      ],
      "source": [
        "date = '2016-01-01T06:00:00'\n",
        "d_sub = df[df['date'] == date]\n",
        "plt.figure()\n",
        "plt.scatter(d_sub['lon'], d_sub['lat'], c=d_sub['t'], cmap='jet')\n",
        "plt.xlabel('Longitude (°E)')\n",
        "plt.ylabel('Latitude (°N)')\n",
        "plt.title(date)\n",
        "plt.colorbar().set_label('Temperature (K)')\n",
        "plt.show()"
      ]
    },
    {
      "cell_type": "code",
      "execution_count": null,
      "metadata": {
        "id": "ynKZoRP_D8Dj"
      },
      "outputs": [],
      "source": [
        "def plot_allstations_temperature_registers(complete_df):\n",
        "  # Coordinates of studied area boundaries (in °N and °E)\n",
        "  lllat = 46.25  #lower left latitude\n",
        "  urlat = 51.896  #upper right latitude\n",
        "  lllon = -5.842  #lower left longitude\n",
        "  urlon = 2  #upper right longitude\n",
        "  extent = [lllon, urlon, lllat, urlat]\n",
        "  dates = complete_df[\"date\"].unique()[:5]\n",
        "  #['2016-01-01 00:00:00','2016-01-01 00:06:00','2016-01-01 00:12:00','2016-01-01 00:18:00']\n",
        "  for date in dates:\n",
        "    clear_output(wait=True)\n",
        "    d_sub = complete_df[complete_df['date'] == date]\n",
        "    fig = plt.figure(figsize=(9,5))\n",
        "\n",
        "    # Select projection\n",
        "    ax = plt.axes(projection=ccrs.PlateCarree())\n",
        "\n",
        "    # Plot the data\n",
        "    plt.scatter(d_sub['lon'], d_sub['lat'], c=d_sub['t'], cmap='jet')\n",
        "    plt.colorbar().set_label('Temperature (K)')\n",
        "    plt.title(date)\n",
        "\n",
        "    ax.coastlines(resolution='50m', linewidth=1)\n",
        "    ax.add_feature(cfeature.BORDERS.with_scale('50m'))\n",
        "\n",
        "    # Adjust the plot to the area we defined\n",
        "    #/!\\# this line causes a bug of the kaggle notebook and clears all the memory. That is why this line is commented and so\n",
        "    # the plot is not completely adjusted to the data\n",
        "    #ax.set_extent(extent)\n",
        "\n",
        "    plt.show()"
      ]
    },
    {
      "cell_type": "code",
      "execution_count": null,
      "metadata": {
        "colab": {
          "base_uri": "https://localhost:8080/",
          "height": 316
        },
        "id": "xRiSUUU2EWW_",
        "outputId": "e549b38a-3d67-463d-fdce-60c233706dd8"
      },
      "outputs": [
        {
          "output_type": "display_data",
          "data": {
            "text/plain": [
              "<Figure size 648x360 with 2 Axes>"
            ],
            "image/png": "[encoded data removed]"
          },
          "metadata": {
            "needs_background": "light"
          }
        }
      ],
      "source": [
        "plot_allstations_temperature_registers(df)"
      ]
    },
    {
      "cell_type": "markdown",
      "metadata": {
        "id": "NwoRPfKVZIUa"
      },
      "source": [
        "### Cleaning and Preparing Data"
      ]
    },
    {
      "cell_type": "code",
      "execution_count": null,
      "metadata": {
        "colab": {
          "base_uri": "https://localhost:8080/"
        },
        "id": "FfaCthBwZKYl",
        "outputId": "c5327d7c-721a-4ad5-bef4-eaad902a4a85"
      },
      "outputs": [
        {
          "output_type": "stream",
          "name": "stderr",
          "text": [
            "<ipython-input-29-8fded465433e>:1: FutureWarning: DataFrame.mean and DataFrame.median with numeric_only=None will include datetime64 and datetime64tz columns in a future version.\n",
            "  selected_station_df = selected_station_df.fillna(df.median())\n"
          ]
        }
      ],
      "source": [
        "selected_station_df = selected_station_df.fillna(df.median())"
      ]
    },
    {
      "cell_type": "code",
      "execution_count": null,
      "metadata": {
        "colab": {
          "base_uri": "https://localhost:8080/"
        },
        "id": "TNTiOBuMZNWk",
        "outputId": "8877bc16-537e-4af5-a07e-169408d01959"
      },
      "outputs": [
        {
          "output_type": "execute_result",
          "data": {
            "text/plain": [
              "number_sta    0\n",
              "lat           0\n",
              "lon           0\n",
              "height_sta    0\n",
              "date          0\n",
              "dd            0\n",
              "ff            0\n",
              "precip        0\n",
              "hu            0\n",
              "td            0\n",
              "t             0\n",
              "psl           0\n",
              "dtype: int64"
            ]
          },
          "metadata": {},
          "execution_count": 30
        }
      ],
      "source": [
        "selected_station_df.isna().sum()"
      ]
    },
    {
      "cell_type": "code",
      "execution_count": null,
      "metadata": {
        "colab": {
          "base_uri": "https://localhost:8080/",
          "height": 337
        },
        "id": "MaPqMlRFu7mQ",
        "outputId": "2808cc94-b4a6-4f74-d4b2-56a806fd4a58"
      },
      "outputs": [
        {
          "output_type": "execute_result",
          "data": {
            "text/plain": [
              "      number_sta    lat   lon  height_sta                date     dd   ff  \\\n",
              "150     53130008  48.03 -0.75       100.0 2016-01-01 00:00:00  170.0  1.9   \n",
              "398     53130008  48.03 -0.75       100.0 2016-01-01 00:06:00  160.0  1.8   \n",
              "647     53130008  48.03 -0.75       100.0 2016-01-01 00:12:00  160.0  1.9   \n",
              "895     53130008  48.03 -0.75       100.0 2016-01-01 00:18:00  160.0  1.7   \n",
              "1144    53130008  48.03 -0.75       100.0 2016-01-01 00:24:00  170.0  1.5   \n",
              "\n",
              "      precip    hu      td       t       psl  \n",
              "150      0.0  96.0  279.55  280.15  102360.0  \n",
              "398      0.0  96.0  279.35  279.95  102380.0  \n",
              "647      0.0  96.0  279.35  279.95  102360.0  \n",
              "895      0.0  97.0  279.55  279.95  102360.0  \n",
              "1144     0.0  97.0  279.65  280.05  102350.0  "
            ],
            "text/html": [
              "\n",
              "  <div id=\"df-2b0f4341-b06c-4fdd-88e1-52913082d0df\">\n",
              "    <div class=\"colab-df-container\">\n",
              "      <div>\n",
              "<style scoped>\n",
              "    .dataframe tbody tr th:only-of-type {\n",
              "        vertical-align: middle;\n",
              "    }\n",
              "\n",
              "    .dataframe tbody tr th {\n",
              "        vertical-align: top;\n",
              "    }\n",
              "\n",
              "    .dataframe thead th {\n",
              "        text-align: right;\n",
              "    }\n",
              "</style>\n",
              "<table border=\"1\" class=\"dataframe\">\n",
              "  <thead>\n",
              "    <tr style=\"text-align: right;\">\n",
              "      <th></th>\n",
              "      <th>number_sta</th>\n",
              "      <th>lat</th>\n",
              "      <th>lon</th>\n",
              "      <th>height_sta</th>\n",
              "      <th>date</th>\n",
              "      <th>dd</th>\n",
              "      <th>ff</th>\n",
              "      <th>precip</th>\n",
              "      <th>hu</th>\n",
              "      <th>td</th>\n",
              "      <th>t</th>\n",
              "      <th>psl</th>\n",
              "    </tr>\n",
              "  </thead>\n",
              "  <tbody>\n",
              "    <tr>\n",
              "      <th>150</th>\n",
              "      <td>53130008</td>\n",
              "      <td>48.03</td>\n",
              "      <td>-0.75</td>\n",
              "      <td>100.0</td>\n",
              "      <td>2016-01-01 00:00:00</td>\n",
              "      <td>170.0</td>\n",
              "      <td>1.9</td>\n",
              "      <td>0.0</td>\n",
              "      <td>96.0</td>\n",
              "      <td>279.55</td>\n",
              "      <td>280.15</td>\n",
              "      <td>102360.0</td>\n",
              "    </tr>\n",
              "    <tr>\n",
              "      <th>398</th>\n",
              "      <td>53130008</td>\n",
              "      <td>48.03</td>\n",
              "      <td>-0.75</td>\n",
              "      <td>100.0</td>\n",
              "      <td>2016-01-01 00:06:00</td>\n",
              "      <td>160.0</td>\n",
              "      <td>1.8</td>\n",
              "      <td>0.0</td>\n",
              "      <td>96.0</td>\n",
              "      <td>279.35</td>\n",
              "      <td>279.95</td>\n",
              "      <td>102380.0</td>\n",
              "    </tr>\n",
              "    <tr>\n",
              "      <th>647</th>\n",
              "      <td>53130008</td>\n",
              "      <td>48.03</td>\n",
              "      <td>-0.75</td>\n",
              "      <td>100.0</td>\n",
              "      <td>2016-01-01 00:12:00</td>\n",
              "      <td>160.0</td>\n",
              "      <td>1.9</td>\n",
              "      <td>0.0</td>\n",
              "      <td>96.0</td>\n",
              "      <td>279.35</td>\n",
              "      <td>279.95</td>\n",
              "      <td>102360.0</td>\n",
              "    </tr>\n",
              "    <tr>\n",
              "      <th>895</th>\n",
              "      <td>53130008</td>\n",
              "      <td>48.03</td>\n",
              "      <td>-0.75</td>\n",
              "      <td>100.0</td>\n",
              "      <td>2016-01-01 00:18:00</td>\n",
              "      <td>160.0</td>\n",
              "      <td>1.7</td>\n",
              "      <td>0.0</td>\n",
              "      <td>97.0</td>\n",
              "      <td>279.55</td>\n",
              "      <td>279.95</td>\n",
              "      <td>102360.0</td>\n",
              "    </tr>\n",
              "    <tr>\n",
              "      <th>1144</th>\n",
              "      <td>53130008</td>\n",
              "      <td>48.03</td>\n",
              "      <td>-0.75</td>\n",
              "      <td>100.0</td>\n",
              "      <td>2016-01-01 00:24:00</td>\n",
              "      <td>170.0</td>\n",
              "      <td>1.5</td>\n",
              "      <td>0.0</td>\n",
              "      <td>97.0</td>\n",
              "      <td>279.65</td>\n",
              "      <td>280.05</td>\n",
              "      <td>102350.0</td>\n",
              "    </tr>\n",
              "  </tbody>\n",
              "</table>\n",
              "</div>\n",
              "      <button class=\"colab-df-convert\" onclick=\"convertToInteractive('df-2b0f4341-b06c-4fdd-88e1-52913082d0df')\"\n",
              "              title=\"Convert this dataframe to an interactive table.\"\n",
              "              style=\"display:none;\">\n",
              "        \n",
              "  <svg xmlns=\"http://www.w3.org/2000/svg\" height=\"24px\"viewBox=\"0 0 24 24\"\n",
              "       width=\"24px\">\n",
              "    <path d=\"M0 0h24v24H0V0z\" fill=\"none\"/>\n",
              "    <path d=\"M18.56 5.44l.94 2.06.94-2.06 2.06-.94-2.06-.94-.94-2.06-.94 2.06-2.06.94zm-11 1L8.5 8.5l.94-2.06 2.06-.94-2.06-.94L8.5 2.5l-.94 2.06-2.06.94zm10 10l.94 2.06.94-2.06 2.06-.94-2.06-.94-.94-2.06-.94 2.06-2.06.94z\"/><path d=\"M17.41 7.96l-1.37-1.37c-.4-.4-.92-.59-1.43-.59-.52 0-1.04.2-1.43.59L10.3 9.45l-7.72 7.72c-.78.78-.78 2.05 0 2.83L4 21.41c.39.39.9.59 1.41.59.51 0 1.02-.2 1.41-.59l7.78-7.78 2.81-2.81c.8-.78.8-2.07 0-2.86zM5.41 20L4 18.59l7.72-7.72 1.47 1.35L5.41 20z\"/>\n",
              "  </svg>\n",
              "      </button>\n",
              "      \n",
              "  <style>\n",
              "    .colab-df-container {\n",
              "      display:flex;\n",
              "      flex-wrap:wrap;\n",
              "      gap: 12px;\n",
              "    }\n",
              "\n",
              "    .colab-df-convert {\n",
              "      background-color: #E8F0FE;\n",
              "      border: none;\n",
              "      border-radius: 50%;\n",
              "      cursor: pointer;\n",
              "      display: none;\n",
              "      fill: #1967D2;\n",
              "      height: 32px;\n",
              "      padding: 0 0 0 0;\n",
              "      width: 32px;\n",
              "    }\n",
              "\n",
              "    .colab-df-convert:hover {\n",
              "      background-color: #E2EBFA;\n",
              "      box-shadow: 0px 1px 2px rgba(60, 64, 67, 0.3), 0px 1px 3px 1px rgba(60, 64, 67, 0.15);\n",
              "      fill: #174EA6;\n",
              "    }\n",
              "\n",
              "    [theme=dark] .colab-df-convert {\n",
              "      background-color: #3B4455;\n",
              "      fill: #D2E3FC;\n",
              "    }\n",
              "\n",
              "    [theme=dark] .colab-df-convert:hover {\n",
              "      background-color: #434B5C;\n",
              "      box-shadow: 0px 1px 3px 1px rgba(0, 0, 0, 0.15);\n",
              "      filter: drop-shadow(0px 1px 2px rgba(0, 0, 0, 0.3));\n",
              "      fill: #FFFFFF;\n",
              "    }\n",
              "  </style>\n",
              "\n",
              "      <script>\n",
              "        const buttonEl =\n",
              "          document.querySelector('#df-2b0f4341-b06c-4fdd-88e1-52913082d0df button.colab-df-convert');\n",
              "        buttonEl.style.display =\n",
              "          google.colab.kernel.accessAllowed ? 'block' : 'none';\n",
              "\n",
              "        async function convertToInteractive(key) {\n",
              "          const element = document.querySelector('#df-2b0f4341-b06c-4fdd-88e1-52913082d0df');\n",
              "          const dataTable =\n",
              "            await google.colab.kernel.invokeFunction('convertToInteractive',\n",
              "                                                     [key], {});\n",
              "          if (!dataTable) return;\n",
              "\n",
              "          const docLinkHtml = 'Like what you see? Visit the ' +\n",
              "            '<a target=\"_blank\" href=https://colab.research.google.com/notebooks/data_table.ipynb>data table notebook</a>'\n",
              "            + ' to learn more about interactive tables.';\n",
              "          element.innerHTML = '';\n",
              "          dataTable['output_type'] = 'display_data';\n",
              "          await google.colab.output.renderOutput(dataTable, element);\n",
              "          const docLink = document.createElement('div');\n",
              "          docLink.innerHTML = docLinkHtml;\n",
              "          element.appendChild(docLink);\n",
              "        }\n",
              "      </script>\n",
              "    </div>\n",
              "  </div>\n",
              "  "
            ]
          },
          "metadata": {},
          "execution_count": 31
        }
      ],
      "source": [
        "selected_station_df.head(5)"
      ]
    },
    {
      "cell_type": "code",
      "execution_count": null,
      "metadata": {
        "colab": {
          "base_uri": "https://localhost:8080/",
          "height": 424
        },
        "id": "AxUqPWVZu9_Y",
        "outputId": "1398d5ab-00ae-4700-ccc0-ecd93c71751c"
      },
      "outputs": [
        {
          "output_type": "execute_result",
          "data": {
            "text/plain": [
              "          number_sta     lat    lon  height_sta                date     dd  \\\n",
              "22033431    53130008  48.031 -0.747       100.0 2018-12-31 23:30:00   40.0   \n",
              "22033692    53130008  48.031 -0.747       100.0 2018-12-31 23:36:00   20.0   \n",
              "22033952    53130008  48.031 -0.747       100.0 2018-12-31 23:42:00   20.0   \n",
              "22034213    53130008  48.031 -0.747       100.0 2018-12-31 23:48:00   20.0   \n",
              "22034473    53130008  48.031 -0.747       100.0 2018-12-31 23:54:00  360.0   \n",
              "\n",
              "           ff  precip    hu      td       t       psl  \n",
              "22033431  2.0     0.0  86.0  278.65  280.85  103720.0  \n",
              "22033692  2.2     0.0  84.0  278.45  280.95  103720.0  \n",
              "22033952  2.5     0.0  84.0  278.55  281.05  103720.0  \n",
              "22034213  2.5     0.0  84.0  278.55  281.05  103720.0  \n",
              "22034473  1.7     0.0  86.0  278.75  280.95  103710.0  "
            ],
            "text/html": [
              "\n",
              "  <div id=\"df-5a7d2200-a5cb-4035-bd77-c76d502e9846\">\n",
              "    <div class=\"colab-df-container\">\n",
              "      <div>\n",
              "<style scoped>\n",
              "    .dataframe tbody tr th:only-of-type {\n",
              "        vertical-align: middle;\n",
              "    }\n",
              "\n",
              "    .dataframe tbody tr th {\n",
              "        vertical-align: top;\n",
              "    }\n",
              "\n",
              "    .dataframe thead th {\n",
              "        text-align: right;\n",
              "    }\n",
              "</style>\n",
              "<table border=\"1\" class=\"dataframe\">\n",
              "  <thead>\n",
              "    <tr style=\"text-align: right;\">\n",
              "      <th></th>\n",
              "      <th>number_sta</th>\n",
              "      <th>lat</th>\n",
              "      <th>lon</th>\n",
              "      <th>height_sta</th>\n",
              "      <th>date</th>\n",
              "      <th>dd</th>\n",
              "      <th>ff</th>\n",
              "      <th>precip</th>\n",
              "      <th>hu</th>\n",
              "      <th>td</th>\n",
              "      <th>t</th>\n",
              "      <th>psl</th>\n",
              "    </tr>\n",
              "  </thead>\n",
              "  <tbody>\n",
              "    <tr>\n",
              "      <th>22033431</th>\n",
              "      <td>53130008</td>\n",
              "      <td>48.031</td>\n",
              "      <td>-0.747</td>\n",
              "      <td>100.0</td>\n",
              "      <td>2018-12-31 23:30:00</td>\n",
              "      <td>40.0</td>\n",
              "      <td>2.0</td>\n",
              "      <td>0.0</td>\n",
              "      <td>86.0</td>\n",
              "      <td>278.65</td>\n",
              "      <td>280.85</td>\n",
              "      <td>103720.0</td>\n",
              "    </tr>\n",
              "    <tr>\n",
              "      <th>22033692</th>\n",
              "      <td>53130008</td>\n",
              "      <td>48.031</td>\n",
              "      <td>-0.747</td>\n",
              "      <td>100.0</td>\n",
              "      <td>2018-12-31 23:36:00</td>\n",
              "      <td>20.0</td>\n",
              "      <td>2.2</td>\n",
              "      <td>0.0</td>\n",
              "      <td>84.0</td>\n",
              "      <td>278.45</td>\n",
              "      <td>280.95</td>\n",
              "      <td>103720.0</td>\n",
              "    </tr>\n",
              "    <tr>\n",
              "      <th>22033952</th>\n",
              "      <td>53130008</td>\n",
              "      <td>48.031</td>\n",
              "      <td>-0.747</td>\n",
              "      <td>100.0</td>\n",
              "      <td>2018-12-31 23:42:00</td>\n",
              "      <td>20.0</td>\n",
              "      <td>2.5</td>\n",
              "      <td>0.0</td>\n",
              "      <td>84.0</td>\n",
              "      <td>278.55</td>\n",
              "      <td>281.05</td>\n",
              "      <td>103720.0</td>\n",
              "    </tr>\n",
              "    <tr>\n",
              "      <th>22034213</th>\n",
              "      <td>53130008</td>\n",
              "      <td>48.031</td>\n",
              "      <td>-0.747</td>\n",
              "      <td>100.0</td>\n",
              "      <td>2018-12-31 23:48:00</td>\n",
              "      <td>20.0</td>\n",
              "      <td>2.5</td>\n",
              "      <td>0.0</td>\n",
              "      <td>84.0</td>\n",
              "      <td>278.55</td>\n",
              "      <td>281.05</td>\n",
              "      <td>103720.0</td>\n",
              "    </tr>\n",
              "    <tr>\n",
              "      <th>22034473</th>\n",
              "      <td>53130008</td>\n",
              "      <td>48.031</td>\n",
              "      <td>-0.747</td>\n",
              "      <td>100.0</td>\n",
              "      <td>2018-12-31 23:54:00</td>\n",
              "      <td>360.0</td>\n",
              "      <td>1.7</td>\n",
              "      <td>0.0</td>\n",
              "      <td>86.0</td>\n",
              "      <td>278.75</td>\n",
              "      <td>280.95</td>\n",
              "      <td>103710.0</td>\n",
              "    </tr>\n",
              "  </tbody>\n",
              "</table>\n",
              "</div>\n",
              "      <button class=\"colab-df-convert\" onclick=\"convertToInteractive('df-5a7d2200-a5cb-4035-bd77-c76d502e9846')\"\n",
              "              title=\"Convert this dataframe to an interactive table.\"\n",
              "              style=\"display:none;\">\n",
              "        \n",
              "  <svg xmlns=\"http://www.w3.org/2000/svg\" height=\"24px\"viewBox=\"0 0 24 24\"\n",
              "       width=\"24px\">\n",
              "    <path d=\"M0 0h24v24H0V0z\" fill=\"none\"/>\n",
              "    <path d=\"M18.56 5.44l.94 2.06.94-2.06 2.06-.94-2.06-.94-.94-2.06-.94 2.06-2.06.94zm-11 1L8.5 8.5l.94-2.06 2.06-.94-2.06-.94L8.5 2.5l-.94 2.06-2.06.94zm10 10l.94 2.06.94-2.06 2.06-.94-2.06-.94-.94-2.06-.94 2.06-2.06.94z\"/><path d=\"M17.41 7.96l-1.37-1.37c-.4-.4-.92-.59-1.43-.59-.52 0-1.04.2-1.43.59L10.3 9.45l-7.72 7.72c-.78.78-.78 2.05 0 2.83L4 21.41c.39.39.9.59 1.41.59.51 0 1.02-.2 1.41-.59l7.78-7.78 2.81-2.81c.8-.78.8-2.07 0-2.86zM5.41 20L4 18.59l7.72-7.72 1.47 1.35L5.41 20z\"/>\n",
              "  </svg>\n",
              "      </button>\n",
              "      \n",
              "  <style>\n",
              "    .colab-df-container {\n",
              "      display:flex;\n",
              "      flex-wrap:wrap;\n",
              "      gap: 12px;\n",
              "    }\n",
              "\n",
              "    .colab-df-convert {\n",
              "      background-color: #E8F0FE;\n",
              "      border: none;\n",
              "      border-radius: 50%;\n",
              "      cursor: pointer;\n",
              "      display: none;\n",
              "      fill: #1967D2;\n",
              "      height: 32px;\n",
              "      padding: 0 0 0 0;\n",
              "      width: 32px;\n",
              "    }\n",
              "\n",
              "    .colab-df-convert:hover {\n",
              "      background-color: #E2EBFA;\n",
              "      box-shadow: 0px 1px 2px rgba(60, 64, 67, 0.3), 0px 1px 3px 1px rgba(60, 64, 67, 0.15);\n",
              "      fill: #174EA6;\n",
              "    }\n",
              "\n",
              "    [theme=dark] .colab-df-convert {\n",
              "      background-color: #3B4455;\n",
              "      fill: #D2E3FC;\n",
              "    }\n",
              "\n",
              "    [theme=dark] .colab-df-convert:hover {\n",
              "      background-color: #434B5C;\n",
              "      box-shadow: 0px 1px 3px 1px rgba(0, 0, 0, 0.15);\n",
              "      filter: drop-shadow(0px 1px 2px rgba(0, 0, 0, 0.3));\n",
              "      fill: #FFFFFF;\n",
              "    }\n",
              "  </style>\n",
              "\n",
              "      <script>\n",
              "        const buttonEl =\n",
              "          document.querySelector('#df-5a7d2200-a5cb-4035-bd77-c76d502e9846 button.colab-df-convert');\n",
              "        buttonEl.style.display =\n",
              "          google.colab.kernel.accessAllowed ? 'block' : 'none';\n",
              "\n",
              "        async function convertToInteractive(key) {\n",
              "          const element = document.querySelector('#df-5a7d2200-a5cb-4035-bd77-c76d502e9846');\n",
              "          const dataTable =\n",
              "            await google.colab.kernel.invokeFunction('convertToInteractive',\n",
              "                                                     [key], {});\n",
              "          if (!dataTable) return;\n",
              "\n",
              "          const docLinkHtml = 'Like what you see? Visit the ' +\n",
              "            '<a target=\"_blank\" href=https://colab.research.google.com/notebooks/data_table.ipynb>data table notebook</a>'\n",
              "            + ' to learn more about interactive tables.';\n",
              "          element.innerHTML = '';\n",
              "          dataTable['output_type'] = 'display_data';\n",
              "          await google.colab.output.renderOutput(dataTable, element);\n",
              "          const docLink = document.createElement('div');\n",
              "          docLink.innerHTML = docLinkHtml;\n",
              "          element.appendChild(docLink);\n",
              "        }\n",
              "      </script>\n",
              "    </div>\n",
              "  </div>\n",
              "  "
            ]
          },
          "metadata": {},
          "execution_count": 32
        }
      ],
      "source": [
        "selected_station_df.tail(5)"
      ]
    },
    {
      "cell_type": "code",
      "execution_count": null,
      "metadata": {
        "colab": {
          "base_uri": "https://localhost:8080/"
        },
        "id": "2cRlDIQPunvt",
        "outputId": "e83bac9d-24bc-4d1c-c374-09a58e57be1c"
      },
      "outputs": [
        {
          "output_type": "execute_result",
          "data": {
            "text/plain": [
              "number_sta             int64\n",
              "lat                  float64\n",
              "lon                  float64\n",
              "height_sta           float64\n",
              "date          datetime64[ns]\n",
              "dd                   float64\n",
              "ff                   float64\n",
              "precip               float64\n",
              "hu                   float64\n",
              "td                   float64\n",
              "t                    float64\n",
              "psl                  float64\n",
              "dtype: object"
            ]
          },
          "metadata": {},
          "execution_count": 33
        }
      ],
      "source": [
        "selected_station_df.dtypes"
      ]
    },
    {
      "cell_type": "code",
      "execution_count": null,
      "metadata": {
        "colab": {
          "base_uri": "https://localhost:8080/",
          "height": 877
        },
        "id": "Wx2_qIU8Nx4z",
        "outputId": "7721e474-4255-47d7-bbf8-97d08bb1ba61"
      },
      "outputs": [
        {
          "output_type": "execute_result",
          "data": {
            "text/plain": [
              "array([[<Axes: title={'center': 'number_sta'}>,\n",
              "        <Axes: title={'center': 'lat'}>, <Axes: title={'center': 'lon'}>],\n",
              "       [<Axes: title={'center': 'height_sta'}>,\n",
              "        <Axes: title={'center': 'date'}>, <Axes: title={'center': 'dd'}>],\n",
              "       [<Axes: title={'center': 'ff'}>,\n",
              "        <Axes: title={'center': 'precip'}>,\n",
              "        <Axes: title={'center': 'hu'}>],\n",
              "       [<Axes: title={'center': 'td'}>, <Axes: title={'center': 't'}>,\n",
              "        <Axes: title={'center': 'psl'}>]], dtype=object)"
            ]
          },
          "metadata": {},
          "execution_count": 34
        },
        {
          "output_type": "display_data",
          "data": {
            "text/plain": [
              "<Figure size 864x864 with 12 Axes>"
            ],
            "image/png": "[encoded data removed]"
          },
          "metadata": {
            "needs_background": "light"
          }
        }
      ],
      "source": [
        "selected_station_df.hist(figsize=(12,12))"
      ]
    },
    {
      "cell_type": "code",
      "execution_count": null,
      "metadata": {
        "colab": {
          "base_uri": "https://localhost:8080/",
          "height": 364
        },
        "id": "csgR_z3BOH1m",
        "outputId": "0c8fc0c7-3826-4c23-aeac-26d3fc8bf9fa"
      },
      "outputs": [
        {
          "output_type": "execute_result",
          "data": {
            "text/plain": [
              "       number_sta            lat            lon  height_sta             dd  \\\n",
              "count    261853.0  261853.000000  261853.000000    261853.0  261853.000000   \n",
              "mean   53130008.0      48.030256      -0.749231       100.0     197.936018   \n",
              "std           0.0       0.000437       0.001310         0.0     110.115551   \n",
              "min    53130008.0      48.030000      -0.750000       100.0       0.000000   \n",
              "25%    53130008.0      48.030000      -0.750000       100.0     100.000000   \n",
              "50%    53130008.0      48.030000      -0.750000       100.0     220.000000   \n",
              "75%    53130008.0      48.031000      -0.747000       100.0     290.000000   \n",
              "max    53130008.0      48.031000      -0.747000       100.0     360.000000   \n",
              "\n",
              "                  ff         precip             hu             td  \\\n",
              "count  261853.000000  261853.000000  261853.000000  261853.000000   \n",
              "mean        3.433916       0.008273      79.402378     281.369758   \n",
              "std         1.898797       0.080305      16.031799       5.355395   \n",
              "min         0.000000       0.000000      14.000000     254.650000   \n",
              "25%         2.100000       0.000000      69.000000     277.750000   \n",
              "50%         3.200000       0.000000      84.000000     281.650000   \n",
              "75%         4.500000       0.000000      92.000000     285.550000   \n",
              "max        16.400000      12.300000     100.000000     296.750000   \n",
              "\n",
              "                   t            psl  \n",
              "count  261853.000000  261853.000000  \n",
              "mean      285.255006  101744.391128  \n",
              "std         6.871485     915.183119  \n",
              "min       265.150000   95970.000000  \n",
              "25%       280.350000  101260.000000  \n",
              "50%       284.750000  101820.000000  \n",
              "75%       289.950000  102320.000000  \n",
              "max       308.750000  104400.000000  "
            ],
            "text/html": [
              "\n",
              "  <div id=\"df-cd16b577-f389-464b-82a0-d627c52bca89\">\n",
              "    <div class=\"colab-df-container\">\n",
              "      <div>\n",
              "<style scoped>\n",
              "    .dataframe tbody tr th:only-of-type {\n",
              "        vertical-align: middle;\n",
              "    }\n",
              "\n",
              "    .dataframe tbody tr th {\n",
              "        vertical-align: top;\n",
              "    }\n",
              "\n",
              "    .dataframe thead th {\n",
              "        text-align: right;\n",
              "    }\n",
              "</style>\n",
              "<table border=\"1\" class=\"dataframe\">\n",
              "  <thead>\n",
              "    <tr style=\"text-align: right;\">\n",
              "      <th></th>\n",
              "      <th>number_sta</th>\n",
              "      <th>lat</th>\n",
              "      <th>lon</th>\n",
              "      <th>height_sta</th>\n",
              "      <th>dd</th>\n",
              "      <th>ff</th>\n",
              "      <th>precip</th>\n",
              "      <th>hu</th>\n",
              "      <th>td</th>\n",
              "      <th>t</th>\n",
              "      <th>psl</th>\n",
              "    </tr>\n",
              "  </thead>\n",
              "  <tbody>\n",
              "    <tr>\n",
              "      <th>count</th>\n",
              "      <td>261853.0</td>\n",
              "      <td>261853.000000</td>\n",
              "      <td>261853.000000</td>\n",
              "      <td>261853.0</td>\n",
              "      <td>261853.000000</td>\n",
              "      <td>261853.000000</td>\n",
              "      <td>261853.000000</td>\n",
              "      <td>261853.000000</td>\n",
              "      <td>261853.000000</td>\n",
              "      <td>261853.000000</td>\n",
              "      <td>261853.000000</td>\n",
              "    </tr>\n",
              "    <tr>\n",
              "      <th>mean</th>\n",
              "      <td>53130008.0</td>\n",
              "      <td>48.030256</td>\n",
              "      <td>-0.749231</td>\n",
              "      <td>100.0</td>\n",
              "      <td>197.936018</td>\n",
              "      <td>3.433916</td>\n",
              "      <td>0.008273</td>\n",
              "      <td>79.402378</td>\n",
              "      <td>281.369758</td>\n",
              "      <td>285.255006</td>\n",
              "      <td>101744.391128</td>\n",
              "    </tr>\n",
              "    <tr>\n",
              "      <th>std</th>\n",
              "      <td>0.0</td>\n",
              "      <td>0.000437</td>\n",
              "      <td>0.001310</td>\n",
              "      <td>0.0</td>\n",
              "      <td>110.115551</td>\n",
              "      <td>1.898797</td>\n",
              "      <td>0.080305</td>\n",
              "      <td>16.031799</td>\n",
              "      <td>5.355395</td>\n",
              "      <td>6.871485</td>\n",
              "      <td>915.183119</td>\n",
              "    </tr>\n",
              "    <tr>\n",
              "      <th>min</th>\n",
              "      <td>53130008.0</td>\n",
              "      <td>48.030000</td>\n",
              "      <td>-0.750000</td>\n",
              "      <td>100.0</td>\n",
              "      <td>0.000000</td>\n",
              "      <td>0.000000</td>\n",
              "      <td>0.000000</td>\n",
              "      <td>14.000000</td>\n",
              "      <td>254.650000</td>\n",
              "      <td>265.150000</td>\n",
              "      <td>95970.000000</td>\n",
              "    </tr>\n",
              "    <tr>\n",
              "      <th>25%</th>\n",
              "      <td>53130008.0</td>\n",
              "      <td>48.030000</td>\n",
              "      <td>-0.750000</td>\n",
              "      <td>100.0</td>\n",
              "      <td>100.000000</td>\n",
              "      <td>2.100000</td>\n",
              "      <td>0.000000</td>\n",
              "      <td>69.000000</td>\n",
              "      <td>277.750000</td>\n",
              "      <td>280.350000</td>\n",
              "      <td>101260.000000</td>\n",
              "    </tr>\n",
              "    <tr>\n",
              "      <th>50%</th>\n",
              "      <td>53130008.0</td>\n",
              "      <td>48.030000</td>\n",
              "      <td>-0.750000</td>\n",
              "      <td>100.0</td>\n",
              "      <td>220.000000</td>\n",
              "      <td>3.200000</td>\n",
              "      <td>0.000000</td>\n",
              "      <td>84.000000</td>\n",
              "      <td>281.650000</td>\n",
              "      <td>284.750000</td>\n",
              "      <td>101820.000000</td>\n",
              "    </tr>\n",
              "    <tr>\n",
              "      <th>75%</th>\n",
              "      <td>53130008.0</td>\n",
              "      <td>48.031000</td>\n",
              "      <td>-0.747000</td>\n",
              "      <td>100.0</td>\n",
              "      <td>290.000000</td>\n",
              "      <td>4.500000</td>\n",
              "      <td>0.000000</td>\n",
              "      <td>92.000000</td>\n",
              "      <td>285.550000</td>\n",
              "      <td>289.950000</td>\n",
              "      <td>102320.000000</td>\n",
              "    </tr>\n",
              "    <tr>\n",
              "      <th>max</th>\n",
              "      <td>53130008.0</td>\n",
              "      <td>48.031000</td>\n",
              "      <td>-0.747000</td>\n",
              "      <td>100.0</td>\n",
              "      <td>360.000000</td>\n",
              "      <td>16.400000</td>\n",
              "      <td>12.300000</td>\n",
              "      <td>100.000000</td>\n",
              "      <td>296.750000</td>\n",
              "      <td>308.750000</td>\n",
              "      <td>104400.000000</td>\n",
              "    </tr>\n",
              "  </tbody>\n",
              "</table>\n",
              "</div>\n",
              "      <button class=\"colab-df-convert\" onclick=\"convertToInteractive('df-cd16b577-f389-464b-82a0-d627c52bca89')\"\n",
              "              title=\"Convert this dataframe to an interactive table.\"\n",
              "              style=\"display:none;\">\n",
              "        \n",
              "  <svg xmlns=\"http://www.w3.org/2000/svg\" height=\"24px\"viewBox=\"0 0 24 24\"\n",
              "       width=\"24px\">\n",
              "    <path d=\"M0 0h24v24H0V0z\" fill=\"none\"/>\n",
              "    <path d=\"M18.56 5.44l.94 2.06.94-2.06 2.06-.94-2.06-.94-.94-2.06-.94 2.06-2.06.94zm-11 1L8.5 8.5l.94-2.06 2.06-.94-2.06-.94L8.5 2.5l-.94 2.06-2.06.94zm10 10l.94 2.06.94-2.06 2.06-.94-2.06-.94-.94-2.06-.94 2.06-2.06.94z\"/><path d=\"M17.41 7.96l-1.37-1.37c-.4-.4-.92-.59-1.43-.59-.52 0-1.04.2-1.43.59L10.3 9.45l-7.72 7.72c-.78.78-.78 2.05 0 2.83L4 21.41c.39.39.9.59 1.41.59.51 0 1.02-.2 1.41-.59l7.78-7.78 2.81-2.81c.8-.78.8-2.07 0-2.86zM5.41 20L4 18.59l7.72-7.72 1.47 1.35L5.41 20z\"/>\n",
              "  </svg>\n",
              "      </button>\n",
              "      \n",
              "  <style>\n",
              "    .colab-df-container {\n",
              "      display:flex;\n",
              "      flex-wrap:wrap;\n",
              "      gap: 12px;\n",
              "    }\n",
              "\n",
              "    .colab-df-convert {\n",
              "      background-color: #E8F0FE;\n",
              "      border: none;\n",
              "      border-radius: 50%;\n",
              "      cursor: pointer;\n",
              "      display: none;\n",
              "      fill: #1967D2;\n",
              "      height: 32px;\n",
              "      padding: 0 0 0 0;\n",
              "      width: 32px;\n",
              "    }\n",
              "\n",
              "    .colab-df-convert:hover {\n",
              "      background-color: #E2EBFA;\n",
              "      box-shadow: 0px 1px 2px rgba(60, 64, 67, 0.3), 0px 1px 3px 1px rgba(60, 64, 67, 0.15);\n",
              "      fill: #174EA6;\n",
              "    }\n",
              "\n",
              "    [theme=dark] .colab-df-convert {\n",
              "      background-color: #3B4455;\n",
              "      fill: #D2E3FC;\n",
              "    }\n",
              "\n",
              "    [theme=dark] .colab-df-convert:hover {\n",
              "      background-color: #434B5C;\n",
              "      box-shadow: 0px 1px 3px 1px rgba(0, 0, 0, 0.15);\n",
              "      filter: drop-shadow(0px 1px 2px rgba(0, 0, 0, 0.3));\n",
              "      fill: #FFFFFF;\n",
              "    }\n",
              "  </style>\n",
              "\n",
              "      <script>\n",
              "        const buttonEl =\n",
              "          document.querySelector('#df-cd16b577-f389-464b-82a0-d627c52bca89 button.colab-df-convert');\n",
              "        buttonEl.style.display =\n",
              "          google.colab.kernel.accessAllowed ? 'block' : 'none';\n",
              "\n",
              "        async function convertToInteractive(key) {\n",
              "          const element = document.querySelector('#df-cd16b577-f389-464b-82a0-d627c52bca89');\n",
              "          const dataTable =\n",
              "            await google.colab.kernel.invokeFunction('convertToInteractive',\n",
              "                                                     [key], {});\n",
              "          if (!dataTable) return;\n",
              "\n",
              "          const docLinkHtml = 'Like what you see? Visit the ' +\n",
              "            '<a target=\"_blank\" href=https://colab.research.google.com/notebooks/data_table.ipynb>data table notebook</a>'\n",
              "            + ' to learn more about interactive tables.';\n",
              "          element.innerHTML = '';\n",
              "          dataTable['output_type'] = 'display_data';\n",
              "          await google.colab.output.renderOutput(dataTable, element);\n",
              "          const docLink = document.createElement('div');\n",
              "          docLink.innerHTML = docLinkHtml;\n",
              "          element.appendChild(docLink);\n",
              "        }\n",
              "      </script>\n",
              "    </div>\n",
              "  </div>\n",
              "  "
            ]
          },
          "metadata": {},
          "execution_count": 35
        }
      ],
      "source": [
        "selected_station_df.describe()"
      ]
    },
    {
      "cell_type": "code",
      "execution_count": null,
      "metadata": {
        "colab": {
          "base_uri": "https://localhost:8080/",
          "height": 486
        },
        "id": "zPtYWvwiOrZa",
        "outputId": "bbc74426-78de-4664-97c1-27b5a92039bb"
      },
      "outputs": [
        {
          "output_type": "stream",
          "name": "stderr",
          "text": [
            "/usr/local/lib/python3.9/dist-packages/pandas/io/formats/style.py:3555: RuntimeWarning: All-NaN slice encountered\n",
            "  smin = np.nanmin(gmap) if vmin is None else vmin\n",
            "/usr/local/lib/python3.9/dist-packages/pandas/io/formats/style.py:3556: RuntimeWarning: All-NaN slice encountered\n",
            "  smax = np.nanmax(gmap) if vmax is None else vmax\n"
          ]
        },
        {
          "output_type": "execute_result",
          "data": {
            "text/plain": [
              "<pandas.io.formats.style.Styler at 0x7f6f5e6a2370>"
            ],
            "text/html": [
              "<style type=\"text/css\">\n",
              "#T_2cd9f_row0_col0, #T_2cd9f_row0_col1, #T_2cd9f_row0_col2, #T_2cd9f_row0_col3, #T_2cd9f_row0_col4, #T_2cd9f_row0_col5, #T_2cd9f_row0_col6, #T_2cd9f_row0_col7, #T_2cd9f_row0_col8, #T_2cd9f_row0_col9, #T_2cd9f_row0_col10, #T_2cd9f_row1_col0, #T_2cd9f_row1_col3, #T_2cd9f_row2_col0, #T_2cd9f_row2_col3, #T_2cd9f_row3_col0, #T_2cd9f_row3_col1, #T_2cd9f_row3_col2, #T_2cd9f_row3_col3, #T_2cd9f_row3_col4, #T_2cd9f_row3_col5, #T_2cd9f_row3_col6, #T_2cd9f_row3_col7, #T_2cd9f_row3_col8, #T_2cd9f_row3_col9, #T_2cd9f_row3_col10, #T_2cd9f_row4_col0, #T_2cd9f_row4_col3, #T_2cd9f_row5_col0, #T_2cd9f_row5_col3, #T_2cd9f_row6_col0, #T_2cd9f_row6_col3, #T_2cd9f_row7_col0, #T_2cd9f_row7_col3, #T_2cd9f_row8_col0, #T_2cd9f_row8_col3, #T_2cd9f_row9_col0, #T_2cd9f_row9_col3, #T_2cd9f_row10_col0, #T_2cd9f_row10_col3 {\n",
              "  background-color: #000000;\n",
              "  color: #f1f1f1;\n",
              "}\n",
              "#T_2cd9f_row1_col1, #T_2cd9f_row1_col2, #T_2cd9f_row2_col1, #T_2cd9f_row2_col2, #T_2cd9f_row4_col4, #T_2cd9f_row5_col5, #T_2cd9f_row6_col6, #T_2cd9f_row7_col7, #T_2cd9f_row8_col8, #T_2cd9f_row9_col9, #T_2cd9f_row10_col10 {\n",
              "  background-color: #b40426;\n",
              "  color: #f1f1f1;\n",
              "}\n",
              "#T_2cd9f_row1_col4, #T_2cd9f_row2_col4, #T_2cd9f_row5_col10, #T_2cd9f_row7_col1, #T_2cd9f_row7_col2, #T_2cd9f_row7_col9, #T_2cd9f_row9_col7, #T_2cd9f_row10_col5, #T_2cd9f_row10_col6, #T_2cd9f_row10_col8 {\n",
              "  background-color: #3b4cc0;\n",
              "  color: #f1f1f1;\n",
              "}\n",
              "#T_2cd9f_row1_col5, #T_2cd9f_row2_col5 {\n",
              "  background-color: #86a9fc;\n",
              "  color: #f1f1f1;\n",
              "}\n",
              "#T_2cd9f_row1_col6, #T_2cd9f_row2_col6 {\n",
              "  background-color: #5875e1;\n",
              "  color: #f1f1f1;\n",
              "}\n",
              "#T_2cd9f_row1_col7, #T_2cd9f_row2_col7, #T_2cd9f_row8_col7 {\n",
              "  background-color: #a5c3fe;\n",
              "  color: #000000;\n",
              "}\n",
              "#T_2cd9f_row1_col8, #T_2cd9f_row2_col8, #T_2cd9f_row9_col5 {\n",
              "  background-color: #97b8ff;\n",
              "  color: #000000;\n",
              "}\n",
              "#T_2cd9f_row1_col9, #T_2cd9f_row2_col9 {\n",
              "  background-color: #dedcdb;\n",
              "  color: #000000;\n",
              "}\n",
              "#T_2cd9f_row1_col10, #T_2cd9f_row2_col10, #T_2cd9f_row4_col10, #T_2cd9f_row5_col7 {\n",
              "  background-color: #8badfd;\n",
              "  color: #000000;\n",
              "}\n",
              "#T_2cd9f_row4_col1, #T_2cd9f_row4_col2, #T_2cd9f_row5_col1, #T_2cd9f_row5_col2, #T_2cd9f_row6_col4 {\n",
              "  background-color: #485fd1;\n",
              "  color: #f1f1f1;\n",
              "}\n",
              "#T_2cd9f_row4_col5 {\n",
              "  background-color: #a2c1ff;\n",
              "  color: #000000;\n",
              "}\n",
              "#T_2cd9f_row4_col6, #T_2cd9f_row5_col4 {\n",
              "  background-color: #5977e3;\n",
              "  color: #f1f1f1;\n",
              "}\n",
              "#T_2cd9f_row4_col7, #T_2cd9f_row6_col7 {\n",
              "  background-color: #c6d6f1;\n",
              "  color: #000000;\n",
              "}\n",
              "#T_2cd9f_row4_col8 {\n",
              "  background-color: #7ea1fa;\n",
              "  color: #f1f1f1;\n",
              "}\n",
              "#T_2cd9f_row4_col9 {\n",
              "  background-color: #c3d5f4;\n",
              "  color: #000000;\n",
              "}\n",
              "#T_2cd9f_row5_col6 {\n",
              "  background-color: #6f92f3;\n",
              "  color: #f1f1f1;\n",
              "}\n",
              "#T_2cd9f_row5_col8, #T_2cd9f_row7_col8 {\n",
              "  background-color: #3f53c6;\n",
              "  color: #f1f1f1;\n",
              "}\n",
              "#T_2cd9f_row5_col9 {\n",
              "  background-color: #bbd1f8;\n",
              "  color: #000000;\n",
              "}\n",
              "#T_2cd9f_row6_col1, #T_2cd9f_row6_col2, #T_2cd9f_row9_col6 {\n",
              "  background-color: #5470de;\n",
              "  color: #f1f1f1;\n",
              "}\n",
              "#T_2cd9f_row6_col5 {\n",
              "  background-color: #a6c4fe;\n",
              "  color: #000000;\n",
              "}\n",
              "#T_2cd9f_row6_col8 {\n",
              "  background-color: #6384eb;\n",
              "  color: #f1f1f1;\n",
              "}\n",
              "#T_2cd9f_row6_col9 {\n",
              "  background-color: #b5cdfa;\n",
              "  color: #000000;\n",
              "}\n",
              "#T_2cd9f_row6_col10, #T_2cd9f_row8_col10 {\n",
              "  background-color: #7699f6;\n",
              "  color: #f1f1f1;\n",
              "}\n",
              "#T_2cd9f_row7_col4 {\n",
              "  background-color: #5b7ae5;\n",
              "  color: #f1f1f1;\n",
              "}\n",
              "#T_2cd9f_row7_col5 {\n",
              "  background-color: #5d7ce6;\n",
              "  color: #f1f1f1;\n",
              "}\n",
              "#T_2cd9f_row7_col6 {\n",
              "  background-color: #6e90f2;\n",
              "  color: #f1f1f1;\n",
              "}\n",
              "#T_2cd9f_row7_col10 {\n",
              "  background-color: #89acfd;\n",
              "  color: #000000;\n",
              "}\n",
              "#T_2cd9f_row8_col1, #T_2cd9f_row8_col2 {\n",
              "  background-color: #93b5fe;\n",
              "  color: #000000;\n",
              "}\n",
              "#T_2cd9f_row8_col4 {\n",
              "  background-color: #6b8df0;\n",
              "  color: #f1f1f1;\n",
              "}\n",
              "#T_2cd9f_row8_col5 {\n",
              "  background-color: #7b9ff9;\n",
              "  color: #f1f1f1;\n",
              "}\n",
              "#T_2cd9f_row8_col6 {\n",
              "  background-color: #6282ea;\n",
              "  color: #f1f1f1;\n",
              "}\n",
              "#T_2cd9f_row8_col9 {\n",
              "  background-color: #d55042;\n",
              "  color: #f1f1f1;\n",
              "}\n",
              "#T_2cd9f_row9_col1, #T_2cd9f_row9_col2 {\n",
              "  background-color: #96b7ff;\n",
              "  color: #000000;\n",
              "}\n",
              "#T_2cd9f_row9_col4 {\n",
              "  background-color: #5673e0;\n",
              "  color: #f1f1f1;\n",
              "}\n",
              "#T_2cd9f_row9_col8 {\n",
              "  background-color: #e0654f;\n",
              "  color: #f1f1f1;\n",
              "}\n",
              "#T_2cd9f_row9_col10 {\n",
              "  background-color: #81a4fb;\n",
              "  color: #f1f1f1;\n",
              "}\n",
              "#T_2cd9f_row10_col1, #T_2cd9f_row10_col2 {\n",
              "  background-color: #4c66d6;\n",
              "  color: #f1f1f1;\n",
              "}\n",
              "#T_2cd9f_row10_col4 {\n",
              "  background-color: #3d50c3;\n",
              "  color: #f1f1f1;\n",
              "}\n",
              "#T_2cd9f_row10_col7 {\n",
              "  background-color: #afcafc;\n",
              "  color: #000000;\n",
              "}\n",
              "#T_2cd9f_row10_col9 {\n",
              "  background-color: #aac7fd;\n",
              "  color: #000000;\n",
              "}\n",
              "</style>\n",
              "<table id=\"T_2cd9f\" class=\"dataframe\">\n",
              "  <thead>\n",
              "    <tr>\n",
              "      <th class=\"blank level0\" >&nbsp;</th>\n",
              "      <th id=\"T_2cd9f_level0_col0\" class=\"col_heading level0 col0\" >number_sta</th>\n",
              "      <th id=\"T_2cd9f_level0_col1\" class=\"col_heading level0 col1\" >lat</th>\n",
              "      <th id=\"T_2cd9f_level0_col2\" class=\"col_heading level0 col2\" >lon</th>\n",
              "      <th id=\"T_2cd9f_level0_col3\" class=\"col_heading level0 col3\" >height_sta</th>\n",
              "      <th id=\"T_2cd9f_level0_col4\" class=\"col_heading level0 col4\" >dd</th>\n",
              "      <th id=\"T_2cd9f_level0_col5\" class=\"col_heading level0 col5\" >ff</th>\n",
              "      <th id=\"T_2cd9f_level0_col6\" class=\"col_heading level0 col6\" >precip</th>\n",
              "      <th id=\"T_2cd9f_level0_col7\" class=\"col_heading level0 col7\" >hu</th>\n",
              "      <th id=\"T_2cd9f_level0_col8\" class=\"col_heading level0 col8\" >td</th>\n",
              "      <th id=\"T_2cd9f_level0_col9\" class=\"col_heading level0 col9\" >t</th>\n",
              "      <th id=\"T_2cd9f_level0_col10\" class=\"col_heading level0 col10\" >psl</th>\n",
              "    </tr>\n",
              "  </thead>\n",
              "  <tbody>\n",
              "    <tr>\n",
              "      <th id=\"T_2cd9f_level0_row0\" class=\"row_heading level0 row0\" >number_sta</th>\n",
              "      <td id=\"T_2cd9f_row0_col0\" class=\"data row0 col0\" >nan</td>\n",
              "      <td id=\"T_2cd9f_row0_col1\" class=\"data row0 col1\" >nan</td>\n",
              "      <td id=\"T_2cd9f_row0_col2\" class=\"data row0 col2\" >nan</td>\n",
              "      <td id=\"T_2cd9f_row0_col3\" class=\"data row0 col3\" >nan</td>\n",
              "      <td id=\"T_2cd9f_row0_col4\" class=\"data row0 col4\" >nan</td>\n",
              "      <td id=\"T_2cd9f_row0_col5\" class=\"data row0 col5\" >nan</td>\n",
              "      <td id=\"T_2cd9f_row0_col6\" class=\"data row0 col6\" >nan</td>\n",
              "      <td id=\"T_2cd9f_row0_col7\" class=\"data row0 col7\" >nan</td>\n",
              "      <td id=\"T_2cd9f_row0_col8\" class=\"data row0 col8\" >nan</td>\n",
              "      <td id=\"T_2cd9f_row0_col9\" class=\"data row0 col9\" >nan</td>\n",
              "      <td id=\"T_2cd9f_row0_col10\" class=\"data row0 col10\" >nan</td>\n",
              "    </tr>\n",
              "    <tr>\n",
              "      <th id=\"T_2cd9f_level0_row1\" class=\"row_heading level0 row1\" >lat</th>\n",
              "      <td id=\"T_2cd9f_row1_col0\" class=\"data row1 col0\" >nan</td>\n",
              "      <td id=\"T_2cd9f_row1_col1\" class=\"data row1 col1\" >1.000000</td>\n",
              "      <td id=\"T_2cd9f_row1_col2\" class=\"data row1 col2\" >1.000000</td>\n",
              "      <td id=\"T_2cd9f_row1_col3\" class=\"data row1 col3\" >nan</td>\n",
              "      <td id=\"T_2cd9f_row1_col4\" class=\"data row1 col4\" >-0.035709</td>\n",
              "      <td id=\"T_2cd9f_row1_col5\" class=\"data row1 col5\" >-0.037678</td>\n",
              "      <td id=\"T_2cd9f_row1_col6\" class=\"data row1 col6\" >0.005675</td>\n",
              "      <td id=\"T_2cd9f_row1_col7\" class=\"data row1 col7\" >-0.085707</td>\n",
              "      <td id=\"T_2cd9f_row1_col8\" class=\"data row1 col8\" >0.206530</td>\n",
              "      <td id=\"T_2cd9f_row1_col9\" class=\"data row1 col9\" >0.213093</td>\n",
              "      <td id=\"T_2cd9f_row1_col10\" class=\"data row1 col10\" >-0.020470</td>\n",
              "    </tr>\n",
              "    <tr>\n",
              "      <th id=\"T_2cd9f_level0_row2\" class=\"row_heading level0 row2\" >lon</th>\n",
              "      <td id=\"T_2cd9f_row2_col0\" class=\"data row2 col0\" >nan</td>\n",
              "      <td id=\"T_2cd9f_row2_col1\" class=\"data row2 col1\" >1.000000</td>\n",
              "      <td id=\"T_2cd9f_row2_col2\" class=\"data row2 col2\" >1.000000</td>\n",
              "      <td id=\"T_2cd9f_row2_col3\" class=\"data row2 col3\" >nan</td>\n",
              "      <td id=\"T_2cd9f_row2_col4\" class=\"data row2 col4\" >-0.035709</td>\n",
              "      <td id=\"T_2cd9f_row2_col5\" class=\"data row2 col5\" >-0.037678</td>\n",
              "      <td id=\"T_2cd9f_row2_col6\" class=\"data row2 col6\" >0.005675</td>\n",
              "      <td id=\"T_2cd9f_row2_col7\" class=\"data row2 col7\" >-0.085707</td>\n",
              "      <td id=\"T_2cd9f_row2_col8\" class=\"data row2 col8\" >0.206530</td>\n",
              "      <td id=\"T_2cd9f_row2_col9\" class=\"data row2 col9\" >0.213093</td>\n",
              "      <td id=\"T_2cd9f_row2_col10\" class=\"data row2 col10\" >-0.020470</td>\n",
              "    </tr>\n",
              "    <tr>\n",
              "      <th id=\"T_2cd9f_level0_row3\" class=\"row_heading level0 row3\" >height_sta</th>\n",
              "      <td id=\"T_2cd9f_row3_col0\" class=\"data row3 col0\" >nan</td>\n",
              "      <td id=\"T_2cd9f_row3_col1\" class=\"data row3 col1\" >nan</td>\n",
              "      <td id=\"T_2cd9f_row3_col2\" class=\"data row3 col2\" >nan</td>\n",
              "      <td id=\"T_2cd9f_row3_col3\" class=\"data row3 col3\" >nan</td>\n",
              "      <td id=\"T_2cd9f_row3_col4\" class=\"data row3 col4\" >nan</td>\n",
              "      <td id=\"T_2cd9f_row3_col5\" class=\"data row3 col5\" >nan</td>\n",
              "      <td id=\"T_2cd9f_row3_col6\" class=\"data row3 col6\" >nan</td>\n",
              "      <td id=\"T_2cd9f_row3_col7\" class=\"data row3 col7\" >nan</td>\n",
              "      <td id=\"T_2cd9f_row3_col8\" class=\"data row3 col8\" >nan</td>\n",
              "      <td id=\"T_2cd9f_row3_col9\" class=\"data row3 col9\" >nan</td>\n",
              "      <td id=\"T_2cd9f_row3_col10\" class=\"data row3 col10\" >nan</td>\n",
              "    </tr>\n",
              "    <tr>\n",
              "      <th id=\"T_2cd9f_level0_row4\" class=\"row_heading level0 row4\" >dd</th>\n",
              "      <td id=\"T_2cd9f_row4_col0\" class=\"data row4 col0\" >nan</td>\n",
              "      <td id=\"T_2cd9f_row4_col1\" class=\"data row4 col1\" >-0.035709</td>\n",
              "      <td id=\"T_2cd9f_row4_col2\" class=\"data row4 col2\" >-0.035709</td>\n",
              "      <td id=\"T_2cd9f_row4_col3\" class=\"data row4 col3\" >nan</td>\n",
              "      <td id=\"T_2cd9f_row4_col4\" class=\"data row4 col4\" >1.000000</td>\n",
              "      <td id=\"T_2cd9f_row4_col5\" class=\"data row4 col5\" >0.068208</td>\n",
              "      <td id=\"T_2cd9f_row4_col6\" class=\"data row4 col6\" >0.009017</td>\n",
              "      <td id=\"T_2cd9f_row4_col7\" class=\"data row4 col7\" >0.076338</td>\n",
              "      <td id=\"T_2cd9f_row4_col8\" class=\"data row4 col8\" >0.125898</td>\n",
              "      <td id=\"T_2cd9f_row4_col9\" class=\"data row4 col9\" >0.057849</td>\n",
              "      <td id=\"T_2cd9f_row4_col10\" class=\"data row4 col10\" >-0.023845</td>\n",
              "    </tr>\n",
              "    <tr>\n",
              "      <th id=\"T_2cd9f_level0_row5\" class=\"row_heading level0 row5\" >ff</th>\n",
              "      <td id=\"T_2cd9f_row5_col0\" class=\"data row5 col0\" >nan</td>\n",
              "      <td id=\"T_2cd9f_row5_col1\" class=\"data row5 col1\" >-0.037678</td>\n",
              "      <td id=\"T_2cd9f_row5_col2\" class=\"data row5 col2\" >-0.037678</td>\n",
              "      <td id=\"T_2cd9f_row5_col3\" class=\"data row5 col3\" >nan</td>\n",
              "      <td id=\"T_2cd9f_row5_col4\" class=\"data row5 col4\" >0.068208</td>\n",
              "      <td id=\"T_2cd9f_row5_col5\" class=\"data row5 col5\" >1.000000</td>\n",
              "      <td id=\"T_2cd9f_row5_col6\" class=\"data row5 col6\" >0.080789</td>\n",
              "      <td id=\"T_2cd9f_row5_col7\" class=\"data row5 col7\" >-0.200962</td>\n",
              "      <td id=\"T_2cd9f_row5_col8\" class=\"data row5 col8\" >-0.082112</td>\n",
              "      <td id=\"T_2cd9f_row5_col9\" class=\"data row5 col9\" >0.025416</td>\n",
              "      <td id=\"T_2cd9f_row5_col10\" class=\"data row5 col10\" >-0.353412</td>\n",
              "    </tr>\n",
              "    <tr>\n",
              "      <th id=\"T_2cd9f_level0_row6\" class=\"row_heading level0 row6\" >precip</th>\n",
              "      <td id=\"T_2cd9f_row6_col0\" class=\"data row6 col0\" >nan</td>\n",
              "      <td id=\"T_2cd9f_row6_col1\" class=\"data row6 col1\" >0.005675</td>\n",
              "      <td id=\"T_2cd9f_row6_col2\" class=\"data row6 col2\" >0.005675</td>\n",
              "      <td id=\"T_2cd9f_row6_col3\" class=\"data row6 col3\" >nan</td>\n",
              "      <td id=\"T_2cd9f_row6_col4\" class=\"data row6 col4\" >0.009017</td>\n",
              "      <td id=\"T_2cd9f_row6_col5\" class=\"data row6 col5\" >0.080789</td>\n",
              "      <td id=\"T_2cd9f_row6_col6\" class=\"data row6 col6\" >1.000000</td>\n",
              "      <td id=\"T_2cd9f_row6_col7\" class=\"data row6 col7\" >0.079090</td>\n",
              "      <td id=\"T_2cd9f_row6_col8\" class=\"data row6 col8\" >0.039817</td>\n",
              "      <td id=\"T_2cd9f_row6_col9\" class=\"data row6 col9\" >-0.007019</td>\n",
              "      <td id=\"T_2cd9f_row6_col10\" class=\"data row6 col10\" >-0.100449</td>\n",
              "    </tr>\n",
              "    <tr>\n",
              "      <th id=\"T_2cd9f_level0_row7\" class=\"row_heading level0 row7\" >hu</th>\n",
              "      <td id=\"T_2cd9f_row7_col0\" class=\"data row7 col0\" >nan</td>\n",
              "      <td id=\"T_2cd9f_row7_col1\" class=\"data row7 col1\" >-0.085707</td>\n",
              "      <td id=\"T_2cd9f_row7_col2\" class=\"data row7 col2\" >-0.085707</td>\n",
              "      <td id=\"T_2cd9f_row7_col3\" class=\"data row7 col3\" >nan</td>\n",
              "      <td id=\"T_2cd9f_row7_col4\" class=\"data row7 col4\" >0.076338</td>\n",
              "      <td id=\"T_2cd9f_row7_col5\" class=\"data row7 col5\" >-0.200962</td>\n",
              "      <td id=\"T_2cd9f_row7_col6\" class=\"data row7 col6\" >0.079090</td>\n",
              "      <td id=\"T_2cd9f_row7_col7\" class=\"data row7 col7\" >1.000000</td>\n",
              "      <td id=\"T_2cd9f_row7_col8\" class=\"data row7 col8\" >-0.083497</td>\n",
              "      <td id=\"T_2cd9f_row7_col9\" class=\"data row7 col9\" >-0.588671</td>\n",
              "      <td id=\"T_2cd9f_row7_col10\" class=\"data row7 col10\" >-0.030204</td>\n",
              "    </tr>\n",
              "    <tr>\n",
              "      <th id=\"T_2cd9f_level0_row8\" class=\"row_heading level0 row8\" >td</th>\n",
              "      <td id=\"T_2cd9f_row8_col0\" class=\"data row8 col0\" >nan</td>\n",
              "      <td id=\"T_2cd9f_row8_col1\" class=\"data row8 col1\" >0.206530</td>\n",
              "      <td id=\"T_2cd9f_row8_col2\" class=\"data row8 col2\" >0.206530</td>\n",
              "      <td id=\"T_2cd9f_row8_col3\" class=\"data row8 col3\" >nan</td>\n",
              "      <td id=\"T_2cd9f_row8_col4\" class=\"data row8 col4\" >0.125898</td>\n",
              "      <td id=\"T_2cd9f_row8_col5\" class=\"data row8 col5\" >-0.082112</td>\n",
              "      <td id=\"T_2cd9f_row8_col6\" class=\"data row8 col6\" >0.039817</td>\n",
              "      <td id=\"T_2cd9f_row8_col7\" class=\"data row8 col7\" >-0.083497</td>\n",
              "      <td id=\"T_2cd9f_row8_col8\" class=\"data row8 col8\" >1.000000</td>\n",
              "      <td id=\"T_2cd9f_row8_col9\" class=\"data row8 col9\" >0.850070</td>\n",
              "      <td id=\"T_2cd9f_row8_col10\" class=\"data row8 col10\" >-0.102713</td>\n",
              "    </tr>\n",
              "    <tr>\n",
              "      <th id=\"T_2cd9f_level0_row9\" class=\"row_heading level0 row9\" >t</th>\n",
              "      <td id=\"T_2cd9f_row9_col0\" class=\"data row9 col0\" >nan</td>\n",
              "      <td id=\"T_2cd9f_row9_col1\" class=\"data row9 col1\" >0.213093</td>\n",
              "      <td id=\"T_2cd9f_row9_col2\" class=\"data row9 col2\" >0.213093</td>\n",
              "      <td id=\"T_2cd9f_row9_col3\" class=\"data row9 col3\" >nan</td>\n",
              "      <td id=\"T_2cd9f_row9_col4\" class=\"data row9 col4\" >0.057849</td>\n",
              "      <td id=\"T_2cd9f_row9_col5\" class=\"data row9 col5\" >0.025416</td>\n",
              "      <td id=\"T_2cd9f_row9_col6\" class=\"data row9 col6\" >-0.007019</td>\n",
              "      <td id=\"T_2cd9f_row9_col7\" class=\"data row9 col7\" >-0.588671</td>\n",
              "      <td id=\"T_2cd9f_row9_col8\" class=\"data row9 col8\" >0.850070</td>\n",
              "      <td id=\"T_2cd9f_row9_col9\" class=\"data row9 col9\" >1.000000</td>\n",
              "      <td id=\"T_2cd9f_row9_col10\" class=\"data row9 col10\" >-0.060999</td>\n",
              "    </tr>\n",
              "    <tr>\n",
              "      <th id=\"T_2cd9f_level0_row10\" class=\"row_heading level0 row10\" >psl</th>\n",
              "      <td id=\"T_2cd9f_row10_col0\" class=\"data row10 col0\" >nan</td>\n",
              "      <td id=\"T_2cd9f_row10_col1\" class=\"data row10 col1\" >-0.020470</td>\n",
              "      <td id=\"T_2cd9f_row10_col2\" class=\"data row10 col2\" >-0.020470</td>\n",
              "      <td id=\"T_2cd9f_row10_col3\" class=\"data row10 col3\" >nan</td>\n",
              "      <td id=\"T_2cd9f_row10_col4\" class=\"data row10 col4\" >-0.023845</td>\n",
              "      <td id=\"T_2cd9f_row10_col5\" class=\"data row10 col5\" >-0.353412</td>\n",
              "      <td id=\"T_2cd9f_row10_col6\" class=\"data row10 col6\" >-0.100449</td>\n",
              "      <td id=\"T_2cd9f_row10_col7\" class=\"data row10 col7\" >-0.030204</td>\n",
              "      <td id=\"T_2cd9f_row10_col8\" class=\"data row10 col8\" >-0.102713</td>\n",
              "      <td id=\"T_2cd9f_row10_col9\" class=\"data row10 col9\" >-0.060999</td>\n",
              "      <td id=\"T_2cd9f_row10_col10\" class=\"data row10 col10\" >1.000000</td>\n",
              "    </tr>\n",
              "  </tbody>\n",
              "</table>\n"
            ]
          },
          "metadata": {},
          "execution_count": 36
        }
      ],
      "source": [
        "corr = selected_station_df.corr()\n",
        "corr.style.background_gradient(cmap='coolwarm')"
      ]
    },
    {
      "cell_type": "code",
      "execution_count": null,
      "metadata": {
        "id": "ZjD-EMu8dyPW"
      },
      "outputs": [],
      "source": [
        "#multi_data = selected_station_df[[\"dd\",\"ff\",\"hu\",\"td\",\"psl\",\"t\"]]\n",
        "multi_data = selected_station_df[[\"td\",\"t\"]]\n",
        "multi_data.index = selected_station_df['date']\n",
        "#multi_data.drop(columns=[\"number_sta\",\"date\",\"lat\",\"lon\",\"height_sta\",\"precip\"],inplace=True)"
      ]
    },
    {
      "cell_type": "code",
      "execution_count": null,
      "metadata": {
        "colab": {
          "base_uri": "https://localhost:8080/",
          "height": 752
        },
        "id": "XKr8HPA5r7Bw",
        "outputId": "3c4435c5-dcb6-4d14-997b-c4ed474ce59f"
      },
      "outputs": [
        {
          "output_type": "execute_result",
          "data": {
            "text/plain": [
              "array([[<Axes: title={'center': 'td'}>, <Axes: title={'center': 't'}>]],\n",
              "      dtype=object)"
            ]
          },
          "metadata": {},
          "execution_count": 38
        },
        {
          "output_type": "display_data",
          "data": {
            "text/plain": [
              "<Figure size 864x864 with 2 Axes>"
            ],
            "image/png": "[encoded data removed]"
          },
          "metadata": {
            "needs_background": "light"
          }
        }
      ],
      "source": [
        "multi_data.hist(figsize=(12,12))"
      ]
    },
    {
      "cell_type": "code",
      "execution_count": null,
      "metadata": {
        "colab": {
          "base_uri": "https://localhost:8080/",
          "height": 188
        },
        "id": "3OuGLcbMvM0g",
        "outputId": "440515b4-0797-4783-b12c-ca84e14731b9"
      },
      "outputs": [
        {
          "output_type": "display_data",
          "data": {
            "text/plain": [
              "<Figure size 1224x72 with 1 Axes>"
            ],
            "image/png": "[encoded data removed]"
          },
          "metadata": {
            "needs_background": "light"
          }
        },
        {
          "output_type": "display_data",
          "data": {
            "text/plain": [
              "<Figure size 1224x72 with 1 Axes>"
            ],
            "image/png": "[encoded data removed]"
          },
          "metadata": {
            "needs_background": "light"
          }
        }
      ],
      "source": [
        "df_numeric=multi_data.select_dtypes(exclude=['object','datetime'])\n",
        "for column in df_numeric:\n",
        "    plt.figure(figsize=(17,1))\n",
        "    sns.boxplot(data=df_numeric, x=column)"
      ]
    },
    {
      "cell_type": "code",
      "execution_count": null,
      "metadata": {
        "colab": {
          "base_uri": "https://localhost:8080/"
        },
        "id": "NSdwhVlvvUOU",
        "outputId": "b75c16d7-f74c-41ae-e198-a4666b4029f7"
      },
      "outputs": [
        {
          "output_type": "stream",
          "name": "stdout",
          "text": [
            "Q1:  277.75  Q3:  285.55  Median:  281.65  IQR:  7.800000000000011\n"
          ]
        },
        {
          "output_type": "stream",
          "name": "stderr",
          "text": [
            "<ipython-input-40-20bc4d263b53>:3: SettingWithCopyWarning: \n",
            "A value is trying to be set on a copy of a slice from a DataFrame\n",
            "\n",
            "See the caveats in the documentation: https://pandas.pydata.org/pandas-docs/stable/user_guide/indexing.html#returning-a-view-versus-a-copy\n",
            "  multi_data.loc[(multi_data[c] > upper_bound) | (multi_data[c] < lower_bound),c]=median\n"
          ]
        }
      ],
      "source": [
        "for c in multi_data.columns[:-1]:\n",
        "  upper_bound, lower_bound,median = getLimitsAndMedian(multi_data[c])\n",
        "  multi_data.loc[(multi_data[c] > upper_bound) | (multi_data[c] < lower_bound),c]=median"
      ]
    },
    {
      "cell_type": "code",
      "execution_count": null,
      "metadata": {
        "colab": {
          "base_uri": "https://localhost:8080/",
          "height": 238
        },
        "id": "exEBwcWJPp81",
        "outputId": "84341752-d57c-4809-acc2-ed3cd5085a46"
      },
      "outputs": [
        {
          "output_type": "execute_result",
          "data": {
            "text/plain": [
              "                         td       t\n",
              "date                               \n",
              "2016-01-01 00:00:00  279.55  280.15\n",
              "2016-01-01 00:06:00  279.35  279.95\n",
              "2016-01-01 00:12:00  279.35  279.95\n",
              "2016-01-01 00:18:00  279.55  279.95\n",
              "2016-01-01 00:24:00  279.65  280.05"
            ],
            "text/html": [
              "\n",
              "  <div id=\"df-e7fda4dd-4d1a-4e71-a241-132befdee4cf\">\n",
              "    <div class=\"colab-df-container\">\n",
              "      <div>\n",
              "<style scoped>\n",
              "    .dataframe tbody tr th:only-of-type {\n",
              "        vertical-align: middle;\n",
              "    }\n",
              "\n",
              "    .dataframe tbody tr th {\n",
              "        vertical-align: top;\n",
              "    }\n",
              "\n",
              "    .dataframe thead th {\n",
              "        text-align: right;\n",
              "    }\n",
              "</style>\n",
              "<table border=\"1\" class=\"dataframe\">\n",
              "  <thead>\n",
              "    <tr style=\"text-align: right;\">\n",
              "      <th></th>\n",
              "      <th>td</th>\n",
              "      <th>t</th>\n",
              "    </tr>\n",
              "    <tr>\n",
              "      <th>date</th>\n",
              "      <th></th>\n",
              "      <th></th>\n",
              "    </tr>\n",
              "  </thead>\n",
              "  <tbody>\n",
              "    <tr>\n",
              "      <th>2016-01-01 00:00:00</th>\n",
              "      <td>279.55</td>\n",
              "      <td>280.15</td>\n",
              "    </tr>\n",
              "    <tr>\n",
              "      <th>2016-01-01 00:06:00</th>\n",
              "      <td>279.35</td>\n",
              "      <td>279.95</td>\n",
              "    </tr>\n",
              "    <tr>\n",
              "      <th>2016-01-01 00:12:00</th>\n",
              "      <td>279.35</td>\n",
              "      <td>279.95</td>\n",
              "    </tr>\n",
              "    <tr>\n",
              "      <th>2016-01-01 00:18:00</th>\n",
              "      <td>279.55</td>\n",
              "      <td>279.95</td>\n",
              "    </tr>\n",
              "    <tr>\n",
              "      <th>2016-01-01 00:24:00</th>\n",
              "      <td>279.65</td>\n",
              "      <td>280.05</td>\n",
              "    </tr>\n",
              "  </tbody>\n",
              "</table>\n",
              "</div>\n",
              "      <button class=\"colab-df-convert\" onclick=\"convertToInteractive('df-e7fda4dd-4d1a-4e71-a241-132befdee4cf')\"\n",
              "              title=\"Convert this dataframe to an interactive table.\"\n",
              "              style=\"display:none;\">\n",
              "        \n",
              "  <svg xmlns=\"http://www.w3.org/2000/svg\" height=\"24px\"viewBox=\"0 0 24 24\"\n",
              "       width=\"24px\">\n",
              "    <path d=\"M0 0h24v24H0V0z\" fill=\"none\"/>\n",
              "    <path d=\"M18.56 5.44l.94 2.06.94-2.06 2.06-.94-2.06-.94-.94-2.06-.94 2.06-2.06.94zm-11 1L8.5 8.5l.94-2.06 2.06-.94-2.06-.94L8.5 2.5l-.94 2.06-2.06.94zm10 10l.94 2.06.94-2.06 2.06-.94-2.06-.94-.94-2.06-.94 2.06-2.06.94z\"/><path d=\"M17.41 7.96l-1.37-1.37c-.4-.4-.92-.59-1.43-.59-.52 0-1.04.2-1.43.59L10.3 9.45l-7.72 7.72c-.78.78-.78 2.05 0 2.83L4 21.41c.39.39.9.59 1.41.59.51 0 1.02-.2 1.41-.59l7.78-7.78 2.81-2.81c.8-.78.8-2.07 0-2.86zM5.41 20L4 18.59l7.72-7.72 1.47 1.35L5.41 20z\"/>\n",
              "  </svg>\n",
              "      </button>\n",
              "      \n",
              "  <style>\n",
              "    .colab-df-container {\n",
              "      display:flex;\n",
              "      flex-wrap:wrap;\n",
              "      gap: 12px;\n",
              "    }\n",
              "\n",
              "    .colab-df-convert {\n",
              "      background-color: #E8F0FE;\n",
              "      border: none;\n",
              "      border-radius: 50%;\n",
              "      cursor: pointer;\n",
              "      display: none;\n",
              "      fill: #1967D2;\n",
              "      height: 32px;\n",
              "      padding: 0 0 0 0;\n",
              "      width: 32px;\n",
              "    }\n",
              "\n",
              "    .colab-df-convert:hover {\n",
              "      background-color: #E2EBFA;\n",
              "      box-shadow: 0px 1px 2px rgba(60, 64, 67, 0.3), 0px 1px 3px 1px rgba(60, 64, 67, 0.15);\n",
              "      fill: #174EA6;\n",
              "    }\n",
              "\n",
              "    [theme=dark] .colab-df-convert {\n",
              "      background-color: #3B4455;\n",
              "      fill: #D2E3FC;\n",
              "    }\n",
              "\n",
              "    [theme=dark] .colab-df-convert:hover {\n",
              "      background-color: #434B5C;\n",
              "      box-shadow: 0px 1px 3px 1px rgba(0, 0, 0, 0.15);\n",
              "      filter: drop-shadow(0px 1px 2px rgba(0, 0, 0, 0.3));\n",
              "      fill: #FFFFFF;\n",
              "    }\n",
              "  </style>\n",
              "\n",
              "      <script>\n",
              "        const buttonEl =\n",
              "          document.querySelector('#df-e7fda4dd-4d1a-4e71-a241-132befdee4cf button.colab-df-convert');\n",
              "        buttonEl.style.display =\n",
              "          google.colab.kernel.accessAllowed ? 'block' : 'none';\n",
              "\n",
              "        async function convertToInteractive(key) {\n",
              "          const element = document.querySelector('#df-e7fda4dd-4d1a-4e71-a241-132befdee4cf');\n",
              "          const dataTable =\n",
              "            await google.colab.kernel.invokeFunction('convertToInteractive',\n",
              "                                                     [key], {});\n",
              "          if (!dataTable) return;\n",
              "\n",
              "          const docLinkHtml = 'Like what you see? Visit the ' +\n",
              "            '<a target=\"_blank\" href=https://colab.research.google.com/notebooks/data_table.ipynb>data table notebook</a>'\n",
              "            + ' to learn more about interactive tables.';\n",
              "          element.innerHTML = '';\n",
              "          dataTable['output_type'] = 'display_data';\n",
              "          await google.colab.output.renderOutput(dataTable, element);\n",
              "          const docLink = document.createElement('div');\n",
              "          docLink.innerHTML = docLinkHtml;\n",
              "          element.appendChild(docLink);\n",
              "        }\n",
              "      </script>\n",
              "    </div>\n",
              "  </div>\n",
              "  "
            ]
          },
          "metadata": {},
          "execution_count": 41
        }
      ],
      "source": [
        "multi_data.head(5)"
      ]
    },
    {
      "cell_type": "code",
      "execution_count": null,
      "metadata": {
        "colab": {
          "base_uri": "https://localhost:8080/"
        },
        "id": "9oAJu7bdsP9w",
        "outputId": "87d1d55b-f7a3-48ac-b914-7f1390ac8598"
      },
      "outputs": [
        {
          "output_type": "stream",
          "name": "stdout",
          "text": [
            "********* td *********\n",
            "281.65    2775\n",
            "280.95    2064\n",
            "280.85    1929\n",
            "280.75    1893\n",
            "285.45    1883\n",
            "          ... \n",
            "295.05       1\n",
            "295.25       1\n",
            "296.25       1\n",
            "296.75       1\n",
            "294.95       1\n",
            "Name: td, Length: 304, dtype: int64\n",
            "*******************\n",
            "\n",
            "\n",
            "********* t *********\n",
            "281.65    1778\n",
            "282.75    1776\n",
            "281.75    1726\n",
            "281.05    1702\n",
            "284.15    1702\n",
            "          ... \n",
            "308.55       3\n",
            "308.45       2\n",
            "308.65       1\n",
            "308.75       1\n",
            "265.15       1\n",
            "Name: t, Length: 437, dtype: int64\n",
            "*******************\n",
            "\n",
            "\n"
          ]
        }
      ],
      "source": [
        "for c in multi_data.columns[:]:\n",
        "  print(\"*********\",c,\"*********\")\n",
        "  print(multi_data[c].value_counts())\n",
        "  print(\"*******************\")\n",
        "  print(\"\\n\")"
      ]
    },
    {
      "cell_type": "code",
      "execution_count": null,
      "metadata": {
        "id": "ESntJdzMdIwb"
      },
      "outputs": [],
      "source": [
        "# coeff_train = 0.8  #proportion of the dataset in the training set\n",
        "# TRAIN_SPLIT = round(uni_data.shape[0]*coeff_train)\n",
        "# print(TRAIN_SPLIT)\n",
        "\n",
        "# coeff_validation_boundary = coeff_train+0.1 ## This represents the boundary of the validation data which will be the next 10% of the data after the train set, and the last 10 % of the data will be the test\n",
        "# VALIDATION_SPLIT_BOUNDARY = round(uni_data.shape[0]*coeff_validation_boundary)\n",
        "# print(VALIDATION_SPLIT_BOUNDARY)"
      ]
    },
    {
      "cell_type": "code",
      "execution_count": null,
      "metadata": {
        "colab": {
          "base_uri": "https://localhost:8080/"
        },
        "id": "uWeo6ee3Mg_m",
        "outputId": "a255b12b-38bc-4fa7-b7c9-32c443f45a6a"
      },
      "outputs": [
        {
          "output_type": "stream",
          "name": "stdout",
          "text": [
            "183297\n",
            "209482\n"
          ]
        }
      ],
      "source": [
        "coeff_train = 0.7  #proportion of the dataset in the training set\n",
        "TRAIN_SPLIT = round(multi_data.shape[0]*coeff_train)\n",
        "print(TRAIN_SPLIT)\n",
        "\n",
        "coeff_validation_boundary = coeff_train+0.1 ## This represents the boundary of the validation data which will be the next 10% of the data after the train set, and the last 10 % of the data will be the test\n",
        "VALIDATION_SPLIT_BOUNDARY = round(multi_data.shape[0]*coeff_validation_boundary)\n",
        "print(VALIDATION_SPLIT_BOUNDARY)"
      ]
    },
    {
      "cell_type": "code",
      "execution_count": null,
      "metadata": {
        "id": "F-C0aIM4Kri0"
      },
      "outputs": [],
      "source": [
        "def multivariate_data(x_data, start_index, end_index,input_size ,target_size,split=1):\n",
        "    data = []\n",
        "    labels = []\n",
        "    start_index = start_index + input_size\n",
        "    if end_index is None:\n",
        "        end_index = len(x_data) - target_size\n",
        "\n",
        "    for i in range(start_index, end_index):\n",
        "        data.append(x_data[(i-input_size):i])\n",
        "        #labels.append(np.max(x_data[i:i+target_size]))\n",
        "        all_labels=list(x_data[i+1:i+target_size+1][\"t\"])\n",
        "        all_labels=np.array_split(all_labels,split)\n",
        "        max_values = [np.max(l) for l in all_labels]\n",
        "        labels_result = np.array(max_values)\n",
        "        labels.append(labels_result)\n",
        "    return np.array(data), np.array(labels)"
      ]
    },
    {
      "cell_type": "code",
      "execution_count": null,
      "metadata": {
        "id": "IFSb8pfJc8Qn"
      },
      "outputs": [],
      "source": [
        "# time_horizon= 3*24*10 ## every day\n",
        "\n",
        "# univariate_past_history = time_horizon\n",
        "# univariate_future_target = time_horizon\n",
        "\n",
        "# x_train,y_train = univariate_data(uni_data, 0,TRAIN_SPLIT,univariate_past_history,univariate_future_target)\n",
        "# x_val,y_val = univariate_data(uni_data, TRAIN_SPLIT, VALIDATION_SPLIT_BOUNDARY,univariate_past_history,univariate_future_target)\n",
        "# x_test,y_test = univariate_data(uni_data, VALIDATION_SPLIT_BOUNDARY, None,univariate_past_history,univariate_future_target)"
      ]
    },
    {
      "cell_type": "code",
      "execution_count": null,
      "metadata": {
        "id": "uxK2Eiu-L9jJ"
      },
      "outputs": [],
      "source": [
        "BASE_TIME_HORIZON_DAYS=2 ## 7 days or 1 week\n",
        "time_horizon= BASE_TIME_HORIZON_DAYS*24*10\n",
        "\n",
        "multivariate_past_history = time_horizon\n",
        "multivariate_future_target = time_horizon\n",
        "\n",
        "x_train,y_train = multivariate_data(multi_data, 0,TRAIN_SPLIT,multivariate_past_history,multivariate_future_target,split=BASE_TIME_HORIZON_DAYS)\n",
        "x_val,y_val = multivariate_data(multi_data, TRAIN_SPLIT, VALIDATION_SPLIT_BOUNDARY,multivariate_past_history,multivariate_future_target,split=BASE_TIME_HORIZON_DAYS)\n",
        "x_test,y_test = multivariate_data(multi_data, VALIDATION_SPLIT_BOUNDARY, None,multivariate_past_history,multivariate_future_target,split=BASE_TIME_HORIZON_DAYS)"
      ]
    },
    {
      "cell_type": "code",
      "execution_count": null,
      "metadata": {
        "id": "Vae4uctmku5c",
        "colab": {
          "base_uri": "https://localhost:8080/"
        },
        "outputId": "8df240fd-4b33-43f8-c11e-42bab80577ca"
      },
      "outputs": [
        {
          "output_type": "execute_result",
          "data": {
            "text/plain": [
              "array([[279.55, 280.15],\n",
              "       [279.35, 279.95],\n",
              "       [279.35, 279.95],\n",
              "       [279.55, 279.95],\n",
              "       [279.65, 280.05],\n",
              "       [279.65, 280.05],\n",
              "       [279.55, 279.95],\n",
              "       [279.45, 279.85],\n",
              "       [279.45, 279.85],\n",
              "       [279.15, 279.55],\n",
              "       [279.25, 279.65],\n",
              "       [279.35, 279.75],\n",
              "       [279.45, 279.85],\n",
              "       [279.45, 279.85],\n",
              "       [279.25, 279.65],\n",
              "       [279.35, 279.75],\n",
              "       [279.15, 279.55],\n",
              "       [278.05, 278.65],\n",
              "       [278.45, 278.85],\n",
              "       [278.25, 278.65],\n",
              "       [278.45, 278.85],\n",
              "       [278.55, 278.95],\n",
              "       [278.45, 278.85],\n",
              "       [278.25, 278.65],\n",
              "       [278.35, 278.75],\n",
              "       [278.35, 278.75],\n",
              "       [277.85, 278.25],\n",
              "       [278.15, 278.45],\n",
              "       [278.65, 278.95],\n",
              "       [278.85, 279.15],\n",
              "       [278.95, 279.25],\n",
              "       [278.85, 279.15],\n",
              "       [278.45, 278.85],\n",
              "       [278.25, 278.65],\n",
              "       [278.35, 278.65],\n",
              "       [278.35, 278.65],\n",
              "       [278.35, 278.65],\n",
              "       [278.55, 278.85],\n",
              "       [278.55, 278.85],\n",
              "       [278.65, 278.95],\n",
              "       [278.65, 278.95],\n",
              "       [278.75, 279.05],\n",
              "       [278.75, 279.05],\n",
              "       [278.85, 279.15],\n",
              "       [278.85, 279.15],\n",
              "       [278.85, 279.15],\n",
              "       [278.85, 279.15],\n",
              "       [278.85, 279.15],\n",
              "       [278.95, 279.25],\n",
              "       [278.95, 279.25],\n",
              "       [278.95, 279.25],\n",
              "       [278.95, 279.25],\n",
              "       [278.95, 279.25],\n",
              "       [278.95, 279.25],\n",
              "       [278.95, 279.25],\n",
              "       [278.95, 279.25],\n",
              "       [278.95, 279.25],\n",
              "       [278.95, 279.25],\n",
              "       [278.95, 279.25],\n",
              "       [279.05, 279.35],\n",
              "       [279.15, 279.45],\n",
              "       [279.25, 279.55],\n",
              "       [279.25, 279.55],\n",
              "       [279.25, 279.55],\n",
              "       [279.25, 279.55],\n",
              "       [279.25, 279.55],\n",
              "       [279.25, 279.55],\n",
              "       [279.25, 279.55],\n",
              "       [279.25, 279.55],\n",
              "       [279.15, 279.45],\n",
              "       [278.95, 279.25],\n",
              "       [278.95, 279.25],\n",
              "       [279.05, 279.35],\n",
              "       [279.05, 279.35],\n",
              "       [279.05, 279.35],\n",
              "       [279.05, 279.35],\n",
              "       [278.95, 279.25],\n",
              "       [278.95, 279.25],\n",
              "       [278.95, 279.25],\n",
              "       [278.85, 279.15],\n",
              "       [278.85, 279.15],\n",
              "       [278.75, 279.05],\n",
              "       [278.85, 279.15],\n",
              "       [278.85, 279.15],\n",
              "       [278.85, 279.15],\n",
              "       [278.85, 279.15],\n",
              "       [278.85, 279.15],\n",
              "       [278.85, 279.15],\n",
              "       [278.85, 279.15],\n",
              "       [278.85, 279.15],\n",
              "       [278.85, 279.15],\n",
              "       [278.95, 279.25],\n",
              "       [278.95, 279.25],\n",
              "       [278.95, 279.25],\n",
              "       [278.85, 279.25],\n",
              "       [278.95, 279.35],\n",
              "       [278.95, 279.35],\n",
              "       [279.05, 279.45],\n",
              "       [279.15, 279.55],\n",
              "       [279.15, 279.55],\n",
              "       [279.25, 279.65],\n",
              "       [279.15, 279.75],\n",
              "       [279.15, 279.75],\n",
              "       [278.95, 279.85],\n",
              "       [278.95, 279.85],\n",
              "       [278.95, 279.85],\n",
              "       [278.65, 279.75],\n",
              "       [278.65, 279.75],\n",
              "       [278.95, 279.85],\n",
              "       [278.85, 279.75],\n",
              "       [278.95, 279.85],\n",
              "       [279.05, 279.95],\n",
              "       [279.05, 279.95],\n",
              "       [279.15, 280.05],\n",
              "       [279.25, 279.95],\n",
              "       [279.35, 280.05],\n",
              "       [279.35, 280.05],\n",
              "       [279.45, 280.15],\n",
              "       [279.55, 280.25],\n",
              "       [279.35, 280.25],\n",
              "       [279.55, 280.45],\n",
              "       [279.35, 280.45],\n",
              "       [279.75, 280.65],\n",
              "       [279.55, 280.65],\n",
              "       [279.65, 280.75],\n",
              "       [279.55, 280.75],\n",
              "       [279.45, 280.85],\n",
              "       [279.55, 280.95],\n",
              "       [279.55, 280.95],\n",
              "       [279.55, 280.95],\n",
              "       [279.55, 281.05],\n",
              "       [279.65, 281.15],\n",
              "       [279.75, 281.25],\n",
              "       [279.65, 281.35],\n",
              "       [279.85, 281.35],\n",
              "       [279.65, 281.35],\n",
              "       [279.45, 281.35],\n",
              "       [279.55, 281.45],\n",
              "       [279.65, 281.55],\n",
              "       [279.55, 281.45],\n",
              "       [279.55, 281.45],\n",
              "       [279.55, 281.55],\n",
              "       [279.55, 281.55],\n",
              "       [279.55, 281.55],\n",
              "       [279.35, 281.55],\n",
              "       [279.55, 281.55],\n",
              "       [279.15, 281.55],\n",
              "       [279.15, 281.55],\n",
              "       [279.35, 281.55],\n",
              "       [279.45, 281.45],\n",
              "       [279.45, 281.45],\n",
              "       [279.25, 281.45],\n",
              "       [279.25, 281.45],\n",
              "       [279.25, 281.45],\n",
              "       [278.95, 281.35],\n",
              "       [278.95, 281.35],\n",
              "       [278.95, 281.45],\n",
              "       [279.05, 281.65],\n",
              "       [278.95, 281.45],\n",
              "       [278.55, 281.25],\n",
              "       [278.65, 281.15],\n",
              "       [278.55, 281.05],\n",
              "       [278.45, 280.95],\n",
              "       [278.45, 280.95],\n",
              "       [278.55, 280.95],\n",
              "       [278.35, 280.75],\n",
              "       [278.35, 280.75],\n",
              "       [278.45, 280.65],\n",
              "       [278.45, 280.65],\n",
              "       [278.25, 280.45],\n",
              "       [278.35, 280.35],\n",
              "       [278.35, 280.35],\n",
              "       [278.45, 280.35],\n",
              "       [278.55, 280.45],\n",
              "       [278.55, 280.55],\n",
              "       [278.55, 280.55],\n",
              "       [278.65, 280.65],\n",
              "       [278.55, 280.75],\n",
              "       [278.45, 280.85],\n",
              "       [278.55, 280.95],\n",
              "       [278.65, 281.15],\n",
              "       [278.75, 281.25],\n",
              "       [278.75, 281.25],\n",
              "       [278.65, 281.15],\n",
              "       [278.65, 281.15],\n",
              "       [278.75, 281.25],\n",
              "       [278.85, 281.35],\n",
              "       [278.85, 281.35],\n",
              "       [278.95, 281.45],\n",
              "       [278.95, 281.45],\n",
              "       [279.05, 281.45],\n",
              "       [279.15, 281.55],\n",
              "       [279.05, 281.45],\n",
              "       [279.35, 281.55],\n",
              "       [279.35, 281.55],\n",
              "       [279.35, 281.55],\n",
              "       [279.45, 281.65],\n",
              "       [279.55, 281.75],\n",
              "       [279.65, 281.85],\n",
              "       [279.65, 281.85],\n",
              "       [279.85, 281.85],\n",
              "       [279.85, 281.85],\n",
              "       [279.85, 281.75],\n",
              "       [280.05, 281.75],\n",
              "       [280.15, 281.85],\n",
              "       [280.25, 281.95],\n",
              "       [280.15, 281.85],\n",
              "       [280.25, 281.85],\n",
              "       [280.25, 281.85],\n",
              "       [280.35, 282.05],\n",
              "       [280.45, 282.15],\n",
              "       [280.45, 282.15],\n",
              "       [280.55, 282.25],\n",
              "       [280.45, 282.35],\n",
              "       [280.45, 282.55],\n",
              "       [280.55, 282.65],\n",
              "       [280.65, 282.55],\n",
              "       [280.65, 282.55],\n",
              "       [280.75, 282.45],\n",
              "       [280.75, 282.35],\n",
              "       [280.85, 282.45],\n",
              "       [280.85, 282.45],\n",
              "       [281.05, 282.45],\n",
              "       [280.95, 282.35],\n",
              "       [280.95, 282.35],\n",
              "       [281.15, 282.35],\n",
              "       [281.15, 282.35],\n",
              "       [281.15, 282.35],\n",
              "       [281.15, 282.25],\n",
              "       [281.15, 282.35],\n",
              "       [281.05, 282.15],\n",
              "       [281.05, 282.15],\n",
              "       [280.95, 282.05],\n",
              "       [280.95, 282.05],\n",
              "       [280.85, 281.95],\n",
              "       [280.75, 281.85],\n",
              "       [280.85, 281.95],\n",
              "       [280.65, 281.85],\n",
              "       [280.75, 281.95],\n",
              "       [280.85, 282.05],\n",
              "       [280.75, 281.95],\n",
              "       [280.75, 281.95],\n",
              "       [280.75, 282.15],\n",
              "       [280.75, 282.15],\n",
              "       [280.65, 282.25],\n",
              "       [280.65, 282.25],\n",
              "       [280.75, 282.35],\n",
              "       [280.75, 282.35],\n",
              "       [280.75, 282.45],\n",
              "       [280.95, 282.65],\n",
              "       [280.95, 282.65],\n",
              "       [280.75, 282.45],\n",
              "       [280.75, 282.35],\n",
              "       [280.75, 282.35],\n",
              "       [281.05, 282.65],\n",
              "       [280.85, 282.75],\n",
              "       [280.75, 282.85],\n",
              "       [280.55, 282.75],\n",
              "       [280.65, 282.85],\n",
              "       [280.65, 282.85],\n",
              "       [280.55, 282.95],\n",
              "       [280.35, 282.95],\n",
              "       [280.25, 282.85],\n",
              "       [280.15, 282.75],\n",
              "       [280.05, 282.65],\n",
              "       [280.15, 282.75],\n",
              "       [280.05, 282.75],\n",
              "       [280.15, 282.85],\n",
              "       [279.95, 282.85],\n",
              "       [279.85, 282.95],\n",
              "       [279.75, 282.65],\n",
              "       [279.65, 282.55],\n",
              "       [279.55, 282.45],\n",
              "       [279.65, 282.75],\n",
              "       [279.55, 282.85],\n",
              "       [279.35, 282.85],\n",
              "       [279.25, 282.95],\n",
              "       [279.15, 282.85],\n",
              "       [279.25, 282.75],\n",
              "       [279.05, 282.75],\n",
              "       [279.15, 282.85],\n",
              "       [279.15, 282.85],\n",
              "       [279.15, 282.85],\n",
              "       [279.15, 282.95],\n",
              "       [279.25, 283.05],\n",
              "       [279.35, 283.05],\n",
              "       [279.65, 283.15],\n",
              "       [280.05, 282.95],\n",
              "       [279.95, 282.65],\n",
              "       [280.05, 282.65],\n",
              "       [279.85, 282.75],\n",
              "       [279.75, 282.85],\n",
              "       [279.65, 282.95],\n",
              "       [279.55, 283.05],\n",
              "       [279.35, 283.05],\n",
              "       [279.55, 283.05],\n",
              "       [279.25, 282.95],\n",
              "       [279.35, 282.85],\n",
              "       [279.55, 282.85],\n",
              "       [279.65, 282.75],\n",
              "       [279.95, 282.65],\n",
              "       [279.95, 282.55],\n",
              "       [280.05, 282.45],\n",
              "       [280.15, 282.25],\n",
              "       [280.05, 282.25],\n",
              "       [280.15, 282.25],\n",
              "       [280.15, 282.15],\n",
              "       [280.05, 282.05],\n",
              "       [280.05, 282.05],\n",
              "       [279.75, 282.15],\n",
              "       [279.65, 282.35],\n",
              "       [279.65, 282.35],\n",
              "       [279.55, 282.25],\n",
              "       [279.55, 282.25],\n",
              "       [279.65, 282.25],\n",
              "       [279.55, 282.15],\n",
              "       [279.65, 282.25],\n",
              "       [279.65, 282.35],\n",
              "       [279.75, 282.45],\n",
              "       [279.75, 282.35],\n",
              "       [279.75, 282.35],\n",
              "       [279.65, 282.35],\n",
              "       [279.65, 282.35],\n",
              "       [279.65, 282.35],\n",
              "       [279.55, 282.45],\n",
              "       [279.75, 282.45],\n",
              "       [279.75, 282.35],\n",
              "       [279.85, 282.45],\n",
              "       [279.85, 282.45],\n",
              "       [279.85, 282.55],\n",
              "       [279.85, 282.45],\n",
              "       [279.85, 282.45],\n",
              "       [279.85, 282.55],\n",
              "       [279.85, 282.55],\n",
              "       [279.75, 282.45],\n",
              "       [279.75, 282.65],\n",
              "       [279.75, 282.85],\n",
              "       [279.65, 282.95],\n",
              "       [279.65, 282.95],\n",
              "       [279.55, 282.85],\n",
              "       [279.65, 282.95],\n",
              "       [279.65, 282.95],\n",
              "       [279.65, 282.95],\n",
              "       [279.75, 282.85],\n",
              "       [279.85, 282.75],\n",
              "       [279.85, 282.75],\n",
              "       [279.85, 282.75],\n",
              "       [279.95, 282.85],\n",
              "       [279.85, 282.75],\n",
              "       [279.95, 282.65],\n",
              "       [279.95, 282.55],\n",
              "       [280.05, 282.45],\n",
              "       [279.85, 282.45],\n",
              "       [279.75, 282.35],\n",
              "       [279.75, 282.35],\n",
              "       [279.95, 282.35],\n",
              "       [279.75, 282.35],\n",
              "       [279.75, 282.35],\n",
              "       [279.65, 282.35],\n",
              "       [279.75, 282.45],\n",
              "       [279.75, 282.35],\n",
              "       [279.65, 282.35],\n",
              "       [279.85, 282.45],\n",
              "       [279.85, 282.45],\n",
              "       [279.75, 282.35],\n",
              "       [279.85, 282.25],\n",
              "       [279.65, 282.25],\n",
              "       [279.55, 282.25],\n",
              "       [279.45, 282.35],\n",
              "       [279.45, 282.35],\n",
              "       [279.25, 282.35],\n",
              "       [279.45, 282.35],\n",
              "       [279.35, 282.25],\n",
              "       [279.35, 282.25],\n",
              "       [279.35, 282.25],\n",
              "       [279.35, 282.45],\n",
              "       [279.45, 282.55],\n",
              "       [279.25, 282.75],\n",
              "       [279.35, 282.85],\n",
              "       [279.15, 282.85],\n",
              "       [279.05, 282.85],\n",
              "       [279.05, 282.85],\n",
              "       [278.85, 282.85],\n",
              "       [278.85, 282.85],\n",
              "       [278.85, 282.85],\n",
              "       [278.85, 282.85],\n",
              "       [278.65, 282.85],\n",
              "       [278.75, 282.75],\n",
              "       [278.65, 282.85],\n",
              "       [278.65, 282.85],\n",
              "       [278.45, 282.85],\n",
              "       [278.65, 282.85],\n",
              "       [278.45, 282.85],\n",
              "       [278.35, 282.95],\n",
              "       [278.35, 283.15],\n",
              "       [278.05, 283.25],\n",
              "       [277.35, 283.25],\n",
              "       [277.15, 283.25],\n",
              "       [276.95, 283.05],\n",
              "       [276.85, 282.95],\n",
              "       [276.95, 282.75],\n",
              "       [277.05, 282.65],\n",
              "       [277.05, 282.45],\n",
              "       [277.05, 282.25],\n",
              "       [276.75, 282.15],\n",
              "       [276.75, 281.95],\n",
              "       [276.65, 281.85],\n",
              "       [276.65, 281.85],\n",
              "       [276.65, 281.65],\n",
              "       [276.65, 281.45],\n",
              "       [277.05, 281.25],\n",
              "       [276.85, 281.05],\n",
              "       [277.05, 281.05],\n",
              "       [277.05, 281.05],\n",
              "       [276.95, 280.95],\n",
              "       [276.85, 280.85],\n",
              "       [277.05, 280.85],\n",
              "       [276.85, 280.85],\n",
              "       [276.95, 280.75],\n",
              "       [276.95, 280.75],\n",
              "       [276.85, 280.65],\n",
              "       [276.95, 280.75],\n",
              "       [276.95, 280.55],\n",
              "       [277.05, 280.45],\n",
              "       [276.95, 280.35],\n",
              "       [277.05, 280.25],\n",
              "       [276.95, 280.15],\n",
              "       [276.85, 280.05],\n",
              "       [276.75, 279.95],\n",
              "       [276.85, 279.85],\n",
              "       [276.85, 279.85],\n",
              "       [276.75, 279.75],\n",
              "       [276.55, 279.75],\n",
              "       [276.45, 279.65],\n",
              "       [276.45, 279.65],\n",
              "       [276.35, 279.55],\n",
              "       [276.55, 279.55],\n",
              "       [276.35, 279.35],\n",
              "       [276.25, 279.25],\n",
              "       [276.35, 279.35],\n",
              "       [276.45, 279.45],\n",
              "       [276.35, 279.55],\n",
              "       [276.55, 279.55],\n",
              "       [276.55, 279.75],\n",
              "       [276.65, 279.85],\n",
              "       [276.65, 279.85],\n",
              "       [276.65, 279.85],\n",
              "       [276.65, 279.85],\n",
              "       [276.75, 279.75],\n",
              "       [276.75, 279.75],\n",
              "       [276.75, 279.75],\n",
              "       [276.85, 279.75],\n",
              "       [276.75, 279.65],\n",
              "       [276.65, 279.55],\n",
              "       [276.85, 279.55],\n",
              "       [276.75, 279.45],\n",
              "       [276.65, 279.35],\n",
              "       [276.55, 279.25],\n",
              "       [276.65, 279.15],\n",
              "       [276.85, 279.15],\n",
              "       [276.65, 278.95],\n",
              "       [276.65, 278.85],\n",
              "       [276.75, 278.95],\n",
              "       [276.75, 278.95],\n",
              "       [276.75, 279.05],\n",
              "       [276.75, 278.95],\n",
              "       [276.65, 278.85],\n",
              "       [276.75, 278.75],\n",
              "       [276.95, 278.75],\n",
              "       [277.05, 278.85],\n",
              "       [277.15, 278.95],\n",
              "       [277.25, 279.05],\n",
              "       [277.15, 278.95],\n",
              "       [277.05, 278.85],\n",
              "       [277.15, 278.95],\n",
              "       [277.15, 278.85],\n",
              "       [277.15, 278.85],\n",
              "       [277.15, 278.85],\n",
              "       [277.35, 278.85],\n",
              "       [277.55, 279.05]])"
            ]
          },
          "metadata": {},
          "execution_count": 48
        }
      ],
      "source": [
        "x_train[0]"
      ]
    },
    {
      "cell_type": "code",
      "execution_count": null,
      "metadata": {
        "id": "lBvXDPgb6WQl",
        "colab": {
          "base_uri": "https://localhost:8080/"
        },
        "outputId": "5234b745-68ba-4429-ed44-46bb299f8292"
      },
      "outputs": [
        {
          "output_type": "execute_result",
          "data": {
            "text/plain": [
              "array([283.55, 284.05])"
            ]
          },
          "metadata": {},
          "execution_count": 49
        }
      ],
      "source": [
        "y_train[0]"
      ]
    },
    {
      "cell_type": "code",
      "execution_count": null,
      "metadata": {
        "id": "JZp50kP9mZtw",
        "colab": {
          "base_uri": "https://localhost:8080/"
        },
        "outputId": "4266fb3b-db90-4f12-c3ec-10e22df3c780"
      },
      "outputs": [
        {
          "output_type": "stream",
          "name": "stdout",
          "text": [
            "(182817, 480, 2)\n",
            "(182817, 2)\n"
          ]
        }
      ],
      "source": [
        "print(x_train.shape)\n",
        "print(y_train.shape)"
      ]
    },
    {
      "cell_type": "code",
      "execution_count": null,
      "metadata": {
        "id": "Q1r1bm1V6jFx",
        "colab": {
          "base_uri": "https://localhost:8080/"
        },
        "outputId": "f16f9ba3-a3d8-4aab-b978-a8985a6f1f79"
      },
      "outputs": [
        {
          "output_type": "stream",
          "name": "stdout",
          "text": [
            "(25705, 480, 2)\n",
            "(25705, 2)\n"
          ]
        }
      ],
      "source": [
        "print(x_val.shape)\n",
        "print(y_val.shape)"
      ]
    },
    {
      "cell_type": "code",
      "execution_count": null,
      "metadata": {
        "id": "zp7Zzto6xP_n",
        "colab": {
          "base_uri": "https://localhost:8080/"
        },
        "outputId": "230a5db0-183d-4832-9718-c27af6b3e30d"
      },
      "outputs": [
        {
          "output_type": "stream",
          "name": "stdout",
          "text": [
            "(51411, 480, 2)\n",
            "(51411, 2)\n"
          ]
        }
      ],
      "source": [
        "print(x_test.shape)\n",
        "print(y_test.shape)"
      ]
    },
    {
      "cell_type": "code",
      "execution_count": null,
      "metadata": {
        "id": "lfVlCqIPR5NF"
      },
      "outputs": [],
      "source": [
        "x_train_mean = np.mean(x_train, axis=(0, 1))\n",
        "x_train_std = np.std(x_train, axis=(0, 1))\n",
        "\n",
        "#Let's standardize the data:\n",
        "x_train_scaled = (x_train-x_train_mean)/x_train_std\n",
        "x_val_scaled = (x_val-x_train_mean)/x_train_std\n",
        "x_test_scaled = (x_test-x_train_mean)/x_train_std\n",
        "\n"
      ]
    },
    {
      "cell_type": "code",
      "execution_count": null,
      "metadata": {
        "id": "tg_s_VRKqnVy"
      },
      "outputs": [],
      "source": [
        "def plot_train_sequence_sample(sequence, label, SEQ_INDEX):\n",
        "  sequence_size=len(sequence)\n",
        "  plt.title('Example of sequence #'+str(SEQ_INDEX))\n",
        "  plt.xlabel('Time-Step')\n",
        "  plt.ylabel('temperature')\n",
        "  plt.plot(np.arange(0,sequence_size), sequence, label=\"Previous Sequence of temp's\")\n",
        "  plt.plot(np.arange(sequence_size+1,(sequence_size*2)+1),label,color=\"red\", label=\"Next temp to predict\")\n",
        "  plt.legend(loc=\"upper left\")\n",
        "  plt.show()"
      ]
    },
    {
      "cell_type": "code",
      "execution_count": null,
      "metadata": {
        "id": "6Vk53VqLrbFb"
      },
      "outputs": [],
      "source": [
        "# SEQ_INDEX=0\n",
        "# plot_train_sequence_sample(x_train[SEQ_INDEX], y_train[SEQ_INDEX],SEQ_INDEX)"
      ]
    },
    {
      "cell_type": "code",
      "execution_count": null,
      "metadata": {
        "id": "MTcO8BvB5Gv1"
      },
      "outputs": [],
      "source": [
        "train_plt=np.concatenate(y_train, axis=0)\n",
        "val_plt=np.concatenate(y_val, axis=0)\n",
        "test_plt=np.concatenate(y_test, axis=0)"
      ]
    },
    {
      "cell_type": "code",
      "execution_count": null,
      "metadata": {
        "id": "zA3-5szn60g0"
      },
      "outputs": [],
      "source": [
        "train_len=len(train_plt)\n",
        "val_len=len(val_plt)+train_len\n",
        "test_len=len(test_plt)+val_len"
      ]
    },
    {
      "cell_type": "code",
      "execution_count": null,
      "metadata": {
        "id": "mNXrB7yy6yvJ",
        "colab": {
          "base_uri": "https://localhost:8080/",
          "height": 295
        },
        "outputId": "00e7a2cb-9acb-41f8-ee95-6a20588f6d73"
      },
      "outputs": [
        {
          "output_type": "display_data",
          "data": {
            "text/plain": [
              "<Figure size 432x288 with 1 Axes>"
            ],
            "image/png": "[encoded data removed]"
          },
          "metadata": {
            "needs_background": "light"
          }
        }
      ],
      "source": [
        "plt.title('Splitted data ')\n",
        "plt.xlabel('Time-Step')\n",
        "plt.ylabel('temperature')\n",
        "plt.plot(np.arange(0,train_len),train_plt, label=\"Train data\", color=\"blue\")\n",
        "plt.plot(np.arange(train_len,val_len),val_plt, label=\"Validation data\", color=\"orange\")\n",
        "plt.plot(np.arange(val_len,test_len),test_plt, label=\"Test data\", color=\"green\")\n",
        "plt.legend(loc=\"upper left\")\n",
        "plt.show()"
      ]
    },
    {
      "cell_type": "markdown",
      "metadata": {
        "id": "6U_fVaP7BrvA"
      },
      "source": [
        "### Training"
      ]
    },
    {
      "cell_type": "code",
      "execution_count": null,
      "metadata": {
        "id": "VTZWnWA6BfuK"
      },
      "outputs": [],
      "source": [
        "tf.random.set_seed(42)"
      ]
    },
    {
      "cell_type": "code",
      "execution_count": null,
      "metadata": {
        "id": "d93sjNTKB5xi"
      },
      "outputs": [],
      "source": [
        "BATCH_SIZE = 256\n",
        "BUFFER_SIZE = 10000\n",
        "\n",
        "train_univariate = tf.data.Dataset.from_tensor_slices((x_train_scaled, y_train))\n",
        "train_univariate = train_univariate.cache().shuffle(BUFFER_SIZE).batch(BATCH_SIZE).repeat()\n",
        "\n",
        "val_univariate = tf.data.Dataset.from_tensor_slices((x_val_scaled, y_val))\n",
        "val_univariate = val_univariate.batch(BATCH_SIZE).repeat()\n",
        "\n",
        "\n",
        "test_univariate = tf.data.Dataset.from_tensor_slices((x_test_scaled, y_test))\n",
        "test_univariate = test_univariate.batch(BATCH_SIZE).repeat()"
      ]
    },
    {
      "cell_type": "code",
      "execution_count": null,
      "metadata": {
        "id": "TbKdZb6wC9dl",
        "colab": {
          "base_uri": "https://localhost:8080/"
        },
        "outputId": "4c39fbac-da16-41e9-bd6a-7ecc470d1fc1"
      },
      "outputs": [
        {
          "output_type": "stream",
          "name": "stdout",
          "text": [
            "Input : tf.Tensor(\n",
            "[[[ 0.10367989 -0.2314189 ]\n",
            "  [ 0.10367989 -0.2314189 ]\n",
            "  [ 0.10367989 -0.2314189 ]\n",
            "  ...\n",
            "  [-1.24332498 -1.24812901]\n",
            "  [-1.26256791 -1.26308063]\n",
            "  [-1.26256791 -1.26308063]]\n",
            "\n",
            " [[-1.55121181 -1.69667759]\n",
            "  [-1.57045474 -1.71162921]\n",
            "  [-1.60894059 -1.71162921]\n",
            "  ...\n",
            "  [-0.08874938 -0.20151567]\n",
            "  [-0.12723523 -0.15666081]\n",
            "  [-0.1079923  -0.17161243]]\n",
            "\n",
            " [[ 0.1806516  -0.36598348]\n",
            "  [ 0.16140867 -0.3809351 ]\n",
            "  [ 0.12292282 -0.41083833]\n",
            "  ...\n",
            "  [-0.18496401 -0.44074157]\n",
            "  [-0.16572108 -0.44074157]\n",
            "  [-0.16572108 -0.44074157]]\n",
            "\n",
            " ...\n",
            "\n",
            " [[-0.16572108 -0.35103186]\n",
            "  [-0.16572108 -0.36598348]\n",
            "  [-0.18496401 -0.3809351 ]\n",
            "  ...\n",
            "  [ 0.14216575  0.03771024]\n",
            "  [ 0.14216575  0.03771024]\n",
            "  [ 0.14216575  0.03771024]]\n",
            "\n",
            " [[-1.64742645 -1.69667759]\n",
            "  [-1.6859123  -1.71162921]\n",
            "  [-1.66666937 -1.71162921]\n",
            "  ...\n",
            "  [-0.83922352 -1.09861282]\n",
            "  [-0.83922352 -1.09861282]\n",
            "  [-0.83922352 -1.09861282]]\n",
            "\n",
            " [[-0.18496401 -0.3809351 ]\n",
            "  [-0.14647816 -0.3809351 ]\n",
            "  [-0.1079923  -0.3809351 ]\n",
            "  ...\n",
            "  [ 0.14216575  0.03771024]\n",
            "  [ 0.16140867  0.02275862]\n",
            "  [ 0.12292282  0.02275862]]], shape=(256, 480, 2), dtype=float64)\n",
            "Target: tf.Tensor(\n",
            "[[284.05 284.55]\n",
            " [288.25 287.85]\n",
            " [286.95 285.95]\n",
            " [283.55 284.05]\n",
            " [281.55 280.85]\n",
            " [283.55 284.05]\n",
            " [281.35 278.45]\n",
            " [284.25 283.85]\n",
            " [284.85 285.45]\n",
            " [284.85 284.25]\n",
            " [282.25 284.85]\n",
            " [283.65 283.75]\n",
            " [282.25 283.85]\n",
            " [283.65 283.75]\n",
            " [282.25 283.85]\n",
            " [277.35 275.95]\n",
            " [282.45 284.25]\n",
            " [281.75 282.45]\n",
            " [285.15 281.75]\n",
            " [284.85 281.95]\n",
            " [280.85 281.35]\n",
            " [283.55 284.05]\n",
            " [285.55 282.25]\n",
            " [284.25 285.65]\n",
            " [283.75 284.55]\n",
            " [278.45 280.25]\n",
            " [286.15 283.25]\n",
            " [282.45 284.35]\n",
            " [283.65 283.75]\n",
            " [282.05 281.55]\n",
            " [282.25 283.85]\n",
            " [280.25 277.35]\n",
            " [281.55 280.85]\n",
            " [285.55 282.95]\n",
            " [285.65 284.25]\n",
            " [284.25 284.25]\n",
            " [288.25 286.95]\n",
            " [284.85 281.95]\n",
            " [276.65 273.95]\n",
            " [284.35 284.05]\n",
            " [282.25 283.85]\n",
            " [285.95 286.15]\n",
            " [282.25 284.85]\n",
            " [288.25 286.95]\n",
            " [281.55 281.35]\n",
            " [284.25 284.25]\n",
            " [282.45 284.25]\n",
            " [283.65 283.75]\n",
            " [284.25 283.85]\n",
            " [276.65 279.25]\n",
            " [285.55 285.45]\n",
            " [284.25 283.85]\n",
            " [276.65 274.15]\n",
            " [284.25 283.85]\n",
            " [284.25 283.85]\n",
            " [275.25 275.15]\n",
            " [275.15 276.55]\n",
            " [275.15 276.65]\n",
            " [285.65 284.85]\n",
            " [276.65 274.65]\n",
            " [287.25 286.35]\n",
            " [284.25 283.85]\n",
            " [285.55 282.45]\n",
            " [281.95 282.05]\n",
            " [284.05 282.25]\n",
            " [283.85 280.15]\n",
            " [284.85 282.05]\n",
            " [282.45 284.35]\n",
            " [280.85 281.35]\n",
            " [287.25 286.85]\n",
            " [283.75 288.25]\n",
            " [280.85 281.35]\n",
            " [283.85 285.55]\n",
            " [275.15 276.65]\n",
            " [285.95 286.15]\n",
            " [278.45 280.25]\n",
            " [282.05 281.55]\n",
            " [286.95 285.95]\n",
            " [286.15 282.75]\n",
            " [283.85 284.05]\n",
            " [284.05 282.25]\n",
            " [287.25 286.55]\n",
            " [276.65 280.35]\n",
            " [285.95 286.15]\n",
            " [285.65 284.85]\n",
            " [282.05 281.55]\n",
            " [280.65 281.75]\n",
            " [274.95 275.65]\n",
            " [285.45 281.75]\n",
            " [285.35 285.55]\n",
            " [286.15 282.75]\n",
            " [283.75 288.25]\n",
            " [283.55 284.05]\n",
            " [281.35 279.05]\n",
            " [282.75 284.05]\n",
            " [284.35 283.55]\n",
            " [280.85 281.35]\n",
            " [282.25 284.85]\n",
            " [283.75 288.25]\n",
            " [283.85 280.15]\n",
            " [284.55 282.05]\n",
            " [284.25 284.25]\n",
            " [274.15 283.65]\n",
            " [282.25 284.85]\n",
            " [282.25 283.85]\n",
            " [284.25 284.25]\n",
            " [285.95 286.15]\n",
            " [288.15 286.55]\n",
            " [284.55 287.25]\n",
            " [284.55 287.25]\n",
            " [274.55 283.65]\n",
            " [278.45 280.25]\n",
            " [282.85 284.25]\n",
            " [283.85 280.65]\n",
            " [282.45 284.25]\n",
            " [288.25 286.95]\n",
            " [284.35 283.55]\n",
            " [284.05 282.25]\n",
            " [284.05 282.25]\n",
            " [282.25 283.85]\n",
            " [286.55 285.55]\n",
            " [282.45 284.35]\n",
            " [285.85 288.25]\n",
            " [282.05 281.55]\n",
            " [283.95 282.45]\n",
            " [283.85 285.55]\n",
            " [282.45 284.25]\n",
            " [282.75 284.85]\n",
            " [275.25 275.15]\n",
            " [282.75 284.05]\n",
            " [281.75 282.45]\n",
            " [286.35 285.55]\n",
            " [283.65 283.75]\n",
            " [281.95 282.05]\n",
            " [281.35 278.45]\n",
            " [281.55 280.85]\n",
            " [284.25 284.25]\n",
            " [285.65 284.85]\n",
            " [283.75 288.25]\n",
            " [286.15 284.35]\n",
            " [282.25 284.85]\n",
            " [285.55 282.25]\n",
            " [280.85 281.35]\n",
            " [284.25 283.85]\n",
            " [283.65 285.65]\n",
            " [285.45 282.15]\n",
            " [286.95 285.95]\n",
            " [283.65 283.75]\n",
            " [283.75 288.25]\n",
            " [285.65 284.85]\n",
            " [282.45 284.25]\n",
            " [282.45 284.35]\n",
            " [284.85 281.95]\n",
            " [281.75 281.95]\n",
            " [285.95 286.15]\n",
            " [283.65 287.25]\n",
            " [282.45 284.25]\n",
            " [275.25 275.15]\n",
            " [281.95 282.05]\n",
            " [285.95 286.15]\n",
            " [278.45 280.25]\n",
            " [282.25 284.85]\n",
            " [280.85 281.35]\n",
            " [285.45 285.55]\n",
            " [283.65 283.75]\n",
            " [281.95 282.05]\n",
            " [284.25 283.85]\n",
            " [283.85 285.55]\n",
            " [280.85 281.35]\n",
            " [282.45 284.25]\n",
            " [280.55 281.75]\n",
            " [286.95 285.95]\n",
            " [282.45 284.25]\n",
            " [286.15 282.75]\n",
            " [284.05 284.55]\n",
            " [282.45 284.25]\n",
            " [281.35 278.45]\n",
            " [286.15 282.75]\n",
            " [284.55 287.25]\n",
            " [281.75 282.45]\n",
            " [285.55 283.45]\n",
            " [280.25 277.35]\n",
            " [281.05 281.75]\n",
            " [285.25 285.55]\n",
            " [282.75 284.05]\n",
            " [285.45 281.75]\n",
            " [275.15 276.65]\n",
            " [283.85 285.55]\n",
            " [285.55 282.45]\n",
            " [282.75 284.15]\n",
            " [282.25 283.85]\n",
            " [283.15 283.85]\n",
            " [280.85 281.35]\n",
            " [283.75 284.05]\n",
            " [276.65 274.65]\n",
            " [276.65 274.15]\n",
            " [285.95 286.15]\n",
            " [284.85 287.25]\n",
            " [285.55 282.45]\n",
            " [285.65 284.85]\n",
            " [284.05 284.55]\n",
            " [282.45 284.35]\n",
            " [284.85 284.15]\n",
            " [282.25 284.85]\n",
            " [284.45 284.05]\n",
            " [285.45 285.55]\n",
            " [285.45 285.55]\n",
            " [284.85 285.45]\n",
            " [273.95 283.65]\n",
            " [285.95 286.15]\n",
            " [285.55 282.45]\n",
            " [284.05 284.85]\n",
            " [284.25 285.45]\n",
            " [283.85 280.15]\n",
            " [282.25 283.85]\n",
            " [286.95 285.95]\n",
            " [284.25 283.85]\n",
            " [284.05 282.25]\n",
            " [285.15 285.55]\n",
            " [284.25 283.85]\n",
            " [276.65 274.35]\n",
            " [282.25 285.55]\n",
            " [282.55 284.25]\n",
            " [284.85 285.45]\n",
            " [285.65 284.65]\n",
            " [281.35 279.55]\n",
            " [282.05 281.55]\n",
            " [276.65 273.95]\n",
            " [281.75 282.45]\n",
            " [285.55 283.15]\n",
            " [284.85 285.45]\n",
            " [285.55 282.45]\n",
            " [287.25 285.45]\n",
            " [280.55 281.75]\n",
            " [284.85 281.95]\n",
            " [280.85 281.35]\n",
            " [286.95 285.95]\n",
            " [284.85 282.05]\n",
            " [286.35 285.55]\n",
            " [284.05 282.25]\n",
            " [285.95 286.15]\n",
            " [284.85 284.25]\n",
            " [283.55 285.65]\n",
            " [283.75 288.25]\n",
            " [280.25 278.85]\n",
            " [282.05 281.55]\n",
            " [283.75 288.25]\n",
            " [284.85 281.95]\n",
            " [283.65 283.75]\n",
            " [283.75 288.25]\n",
            " [283.65 283.75]\n",
            " [281.55 280.85]\n",
            " [284.85 285.45]\n",
            " [285.55 282.45]\n",
            " [284.25 283.85]\n",
            " [285.55 282.45]], shape=(256, 2), dtype=float64)\n"
          ]
        }
      ],
      "source": [
        "for input_example, target_example in train_univariate.take(1):\n",
        "  print(\"Input :\",input_example)\n",
        "  print(\"Target:\",target_example)"
      ]
    },
    {
      "cell_type": "code",
      "execution_count": null,
      "metadata": {
        "id": "TyMH9ioOCWWD"
      },
      "outputs": [],
      "source": [
        "simple_lstm_model = tf.keras.models.Sequential([\n",
        "    tf.keras.layers.LSTM(8,input_shape=(time_horizon, multi_data.shape[1])),\n",
        "    #tf.keras.layers.BatchNormalization(),\n",
        "    tf.keras.layers.Dense(4, activation=activations.relu),\n",
        "    tf.keras.layers.BatchNormalization(),\n",
        "    tf.keras.layers.Dense(BASE_TIME_HORIZON_DAYS)\n",
        "])\n",
        "\n",
        "simple_lstm_model.compile(optimizer=tf.keras.optimizers.Adam(learning_rate=0.0012), loss='mae')"
      ]
    },
    {
      "cell_type": "code",
      "execution_count": null,
      "metadata": {
        "id": "b3PoTKR0dKWJ",
        "colab": {
          "base_uri": "https://localhost:8080/"
        },
        "outputId": "7ee0fe6d-de37-42b9-e3a5-0cdee9316639"
      },
      "outputs": [
        {
          "output_type": "stream",
          "name": "stdout",
          "text": [
            "Model: \"sequential\"\n",
            "_________________________________________________________________\n",
            " Layer (type)                Output Shape              Param #   \n",
            "=================================================================\n",
            " lstm (LSTM)                 (None, 8)                 352       \n",
            "                                                                 \n",
            " dense (Dense)               (None, 4)                 36        \n",
            "                                                                 \n",
            " batch_normalization (BatchN  (None, 4)                16        \n",
            " ormalization)                                                   \n",
            "                                                                 \n",
            " dense_1 (Dense)             (None, 2)                 10        \n",
            "                                                                 \n",
            "=================================================================\n",
            "Total params: 414\n",
            "Trainable params: 406\n",
            "Non-trainable params: 8\n",
            "_________________________________________________________________\n"
          ]
        }
      ],
      "source": [
        "simple_lstm_model.summary()"
      ]
    },
    {
      "cell_type": "code",
      "execution_count": null,
      "metadata": {
        "colab": {
          "base_uri": "https://localhost:8080/"
        },
        "id": "iFFn5B1CCXHc",
        "outputId": "34b1b29f-9aef-47af-d329-4cd303d98796"
      },
      "outputs": [
        {
          "output_type": "stream",
          "name": "stdout",
          "text": [
            "(256, 480, 2)\n",
            "8/8 [==============================] - 4s 9ms/step\n",
            "[[-7.16269135e-01  2.10090893e-05]\n",
            " [-7.21013844e-01  1.79724605e-03]\n",
            " [-7.22324729e-01  1.20205060e-03]\n",
            " [-7.20996380e-01 -1.57600560e-03]\n",
            " [-7.18965530e-01 -6.16591237e-03]\n",
            " [-7.17330277e-01 -5.24702482e-03]\n",
            " [-7.17261970e-01 -6.77394588e-03]\n",
            " [-7.16641724e-01 -6.43417705e-03]\n",
            " [-7.16128111e-01 -8.08130670e-03]\n",
            " [-7.15275526e-01 -8.53369664e-03]\n",
            " [-7.15131819e-01 -9.14480072e-03]\n",
            " [-7.15278149e-01 -7.54291890e-03]\n",
            " [-7.16177166e-01 -6.94843382e-03]\n",
            " [-7.17053175e-01 -5.77355688e-03]\n",
            " [-7.17845917e-01 -5.29196067e-03]\n",
            " [-7.18413651e-01 -4.36911080e-03]\n",
            " [-7.19587207e-01 -3.20422743e-03]\n",
            " [-7.20932066e-01 -1.83644204e-03]\n",
            " [-7.21595883e-01 -3.42335040e-03]\n",
            " [-7.21894264e-01 -1.80036307e-03]\n",
            " [-7.23160923e-01 -9.64769744e-04]\n",
            " [-7.24654615e-01  6.98581920e-04]\n",
            " [-7.26275444e-01  2.44576926e-03]\n",
            " [-7.27580369e-01  3.20470659e-03]\n",
            " [-7.28743970e-01  4.45887493e-03]\n",
            " [-7.29633868e-01  4.33437387e-03]\n",
            " [-7.30266988e-01  5.40934689e-03]\n",
            " [-7.31145978e-01  5.89812454e-03]\n",
            " [-7.31895149e-01  6.42354414e-03]\n",
            " [-7.32913315e-01  7.76260672e-03]\n",
            " [-7.34054208e-01  8.54040310e-03]\n",
            " [-7.35002697e-01  9.27139260e-03]\n",
            " [-7.36044228e-01  1.06446184e-02]\n",
            " [-7.37280905e-01  1.19526964e-02]\n",
            " [-7.37904489e-01  1.15987044e-02]\n",
            " [-7.38139987e-01  1.17362356e-02]\n",
            " [-7.38405764e-01  1.19741159e-02]\n",
            " [-7.38053679e-01  1.06917340e-02]\n",
            " [-7.37505615e-01  1.06780026e-02]\n",
            " [-7.37343669e-01  1.08712297e-02]\n",
            " [-7.38412499e-01  1.35132736e-02]\n",
            " [-7.39979386e-01  1.45831555e-02]\n",
            " [-7.40711808e-01  1.45785669e-02]\n",
            " [-7.40716815e-01  1.41959069e-02]\n",
            " [-7.41285264e-01  1.59042291e-02]\n",
            " [-7.42680430e-01  1.76393688e-02]\n",
            " [-7.44453669e-01  1.97367258e-02]\n",
            " [-7.45999038e-01  2.08682455e-02]\n",
            " [-7.47021198e-01  2.14725435e-02]\n",
            " [-7.47595370e-01  2.16850899e-02]\n",
            " [-7.47906208e-01  2.16889828e-02]\n",
            " [-7.48363018e-01  2.23279968e-02]\n",
            " [-7.48506963e-01  2.18927152e-02]\n",
            " [-7.48997748e-01  2.30713096e-02]\n",
            " [-7.49847353e-01  2.41111629e-02]\n",
            " [-7.50618517e-01  2.47626062e-02]\n",
            " [-7.51510799e-01  2.59951502e-02]\n",
            " [-7.53079295e-01  2.80966964e-02]\n",
            " [-7.54645586e-01  2.92155370e-02]\n",
            " [-7.56182611e-01  3.06031834e-02]\n",
            " [-7.57386446e-01  3.12233362e-02]\n",
            " [-7.58249223e-01  3.17648910e-02]\n",
            " [-7.59067476e-01  3.22144106e-02]\n",
            " [-7.59455323e-01  3.23804989e-02]\n",
            " [-7.60229588e-01  3.34174186e-02]\n",
            " [-7.60791302e-01  3.37105915e-02]\n",
            " [-7.61287570e-01  3.40442508e-02]\n",
            " [-7.61658669e-01  3.42548825e-02]\n",
            " [-7.61810720e-01  3.44263799e-02]\n",
            " [-7.62045681e-01  3.47176753e-02]\n",
            " [-7.62240887e-01  3.49289775e-02]\n",
            " [-7.62261927e-01  3.51228900e-02]\n",
            " [-7.62281001e-01  3.54837626e-02]\n",
            " [-7.62165129e-01  3.60197574e-02]\n",
            " [-7.61753201e-01  3.61111015e-02]\n",
            " [-7.62023032e-01  3.75701748e-02]\n",
            " [-7.62324750e-01  3.82081121e-02]\n",
            " [-7.62338400e-01  3.87266576e-02]\n",
            " [-7.62270331e-01  3.93270329e-02]\n",
            " [-7.62149036e-01  3.99939790e-02]\n",
            " [-7.61965990e-01  4.07156684e-02]\n",
            " [-7.61207819e-01  4.08339612e-02]\n",
            " [-7.60947704e-01  4.22856398e-02]\n",
            " [-7.60634065e-01  4.31457199e-02]\n",
            " [-7.60201156e-01  4.40038107e-02]\n",
            " [-7.60644972e-01  4.46371660e-02]\n",
            " [-7.60375023e-01  4.48339134e-02]\n",
            " [-7.60257781e-01  4.51350436e-02]\n",
            " [-7.60452151e-01  4.56557348e-02]\n",
            " [-7.60929346e-01  4.57286797e-02]\n",
            " [-7.61450171e-01  4.55341600e-02]\n",
            " [-7.61671841e-01  4.52110320e-02]\n",
            " [-7.61818886e-01  4.49649394e-02]\n",
            " [-7.62220979e-01  4.47197072e-02]\n",
            " [-7.62370884e-01  4.43678424e-02]\n",
            " [-7.62460470e-01  4.41085510e-02]\n",
            " [-7.62528419e-01  4.39172052e-02]\n",
            " [-7.62847900e-01  4.37212214e-02]\n",
            " [-7.62935936e-01  4.34068404e-02]\n",
            " [-7.62978971e-01  4.31762747e-02]\n",
            " [-7.63013124e-01  4.30066213e-02]\n",
            " [-7.63040423e-01  4.28824984e-02]\n",
            " [-7.63062000e-01  4.27921638e-02]\n",
            " [-7.63079226e-01  4.27267589e-02]\n",
            " [-7.63093114e-01  4.26796898e-02]\n",
            " [-7.63104558e-01  4.26459238e-02]\n",
            " [-7.63114095e-01  4.26218510e-02]\n",
            " [-7.63121903e-01  4.26047668e-02]\n",
            " [-7.63128757e-01  4.25927006e-02]\n",
            " [-7.63134658e-01  4.25842442e-02]\n",
            " [-7.63139784e-01  4.25784439e-02]\n",
            " [-7.63144255e-01  4.25743461e-02]\n",
            " [-7.63148308e-01  4.25716788e-02]\n",
            " [-7.63151586e-01  4.25698496e-02]\n",
            " [-7.63154566e-01  4.25686724e-02]\n",
            " [-7.63157070e-01  4.25679199e-02]\n",
            " [-7.63159275e-01  4.25675064e-02]\n",
            " [-7.63161182e-01  4.25672494e-02]\n",
            " [-7.63162911e-01  4.25671749e-02]\n",
            " [-7.63164282e-01  4.25671563e-02]\n",
            " [-7.63165534e-01  4.25672308e-02]\n",
            " [-7.63166606e-01  4.25673239e-02]\n",
            " [-7.63167381e-01  4.25673723e-02]\n",
            " [-7.63168097e-01  4.25674953e-02]\n",
            " [-7.63168693e-01  4.25675958e-02]\n",
            " [-7.62913585e-01  4.26228046e-02]\n",
            " [-7.63125539e-01  4.27801125e-02]\n",
            " [-7.62901902e-01  4.27798331e-02]\n",
            " [-7.62856007e-01  4.29523513e-02]\n",
            " [-7.62571573e-01  4.31364588e-02]\n",
            " [-7.62499273e-01  4.34435420e-02]\n",
            " [-7.62203097e-01  4.33433950e-02]\n",
            " [-7.61922836e-01  4.38996442e-02]\n",
            " [-7.61291683e-01  4.39990759e-02]\n",
            " [-7.61266053e-01  4.44078632e-02]\n",
            " [-7.61109293e-01  4.45509218e-02]\n",
            " [-7.60960877e-01  4.46645953e-02]\n",
            " [-7.60846376e-01  4.47508693e-02]\n",
            " [-7.61068106e-01  4.47475128e-02]\n",
            " [-7.61384130e-01  4.45139259e-02]\n",
            " [-7.61215806e-01  4.34647948e-02]\n",
            " [-7.60892153e-01  4.30059619e-02]\n",
            " [-7.60111749e-01  4.20662947e-02]\n",
            " [-7.59507000e-01  4.14863192e-02]\n",
            " [-7.59413064e-01  4.10257578e-02]\n",
            " [-7.58789062e-01  3.97006162e-02]\n",
            " [-7.58104503e-01  3.90729979e-02]\n",
            " [-7.57120788e-01  3.88586223e-02]\n",
            " [-7.56414413e-01  3.91579494e-02]\n",
            " [-7.56840706e-01  4.00806181e-02]\n",
            " [-7.57128835e-01  4.01672497e-02]\n",
            " [-7.57567823e-01  4.01114374e-02]\n",
            " [-7.57996798e-01  3.98051776e-02]\n",
            " [-7.58102238e-01  3.85933444e-02]\n",
            " [-7.58016706e-01  3.77535634e-02]\n",
            " [-7.57951438e-01  3.69262211e-02]\n",
            " [-7.57901490e-01  3.60983014e-02]\n",
            " [-7.57256985e-01  3.46632153e-02]\n",
            " [-7.56387949e-01  3.33257578e-02]\n",
            " [-7.55356789e-01  3.23818736e-02]\n",
            " [-7.54283428e-01  3.12656797e-02]\n",
            " [-7.53766358e-01  3.04245874e-02]\n",
            " [-7.52140105e-01  2.80059744e-02]\n",
            " [-7.50095725e-01  2.68339179e-02]\n",
            " [-7.49427915e-01  2.72364132e-02]\n",
            " [-7.48625398e-01  2.58247517e-02]\n",
            " [-7.47939289e-01  2.52592713e-02]\n",
            " [-7.47164071e-01  2.41536498e-02]\n",
            " [-7.46219158e-01  2.25425512e-02]\n",
            " [-7.44821191e-01  2.08102539e-02]\n",
            " [-7.43017852e-01  1.90212820e-02]\n",
            " [-7.41937637e-01  1.95881166e-02]\n",
            " [-7.41700351e-01  1.98343210e-02]\n",
            " [-7.40630507e-01  1.83576923e-02]\n",
            " [-7.39730835e-01  1.89053845e-02]\n",
            " [-7.39778876e-01  1.94619689e-02]\n",
            " [-7.39665270e-01  1.85477678e-02]\n",
            " [-7.38928735e-01  1.74487252e-02]\n",
            " [-7.36534655e-01  1.39013762e-02]\n",
            " [-7.31341600e-01  2.12512705e-02]\n",
            " [-7.33965456e-01  1.63391288e-02]\n",
            " [-7.29138851e-01  2.60829125e-02]\n",
            " [-7.28416860e-01  2.67943479e-02]\n",
            " [-7.27519810e-01  2.95926165e-02]\n",
            " [-7.23127067e-01  3.82508822e-02]\n",
            " [-7.20979691e-01  4.09994647e-02]\n",
            " [-7.23309219e-01  3.52479555e-02]\n",
            " [-7.21069455e-01  4.09227535e-02]\n",
            " [-7.25104690e-01  3.34922671e-02]\n",
            " [-7.26047814e-01  3.23341563e-02]\n",
            " [-7.26431727e-01  2.94952206e-02]\n",
            " [-7.21530855e-01  3.79582047e-02]\n",
            " [-7.20574081e-01  3.89495045e-02]\n",
            " [-7.23042607e-01  3.30786332e-02]\n",
            " [-7.19722748e-01  3.96169424e-02]\n",
            " [-7.17671752e-01  4.32067029e-02]\n",
            " [-7.19461441e-01  3.83183286e-02]\n",
            " [-7.19585419e-01  3.76749076e-02]\n",
            " [-7.18347907e-01  3.81559767e-02]\n",
            " [-7.18930423e-01  3.44585255e-02]\n",
            " [-7.19030559e-01  3.19779292e-02]\n",
            " [-7.17888653e-01  3.40999775e-02]\n",
            " [-7.16055214e-01  3.80375199e-02]\n",
            " [-7.15858877e-01  3.73248160e-02]\n",
            " [-7.15447843e-01  3.71121392e-02]\n",
            " [-7.13815153e-01  3.75697538e-02]\n",
            " [-7.12406874e-01  3.57146412e-02]\n",
            " [-7.05545604e-01  4.11871597e-02]\n",
            " [-7.00625241e-01  4.62965108e-02]\n",
            " [-6.96364224e-01  5.52858040e-02]\n",
            " [-6.98546946e-01  4.68446352e-02]\n",
            " [-6.91839755e-01  5.73213547e-02]\n",
            " [-6.86748564e-01  6.11186177e-02]\n",
            " [-6.81245327e-01  7.41947889e-02]\n",
            " [-6.82057023e-01  7.40236640e-02]\n",
            " [-6.87249541e-01  6.52652457e-02]\n",
            " [-6.86523974e-01  6.78467527e-02]\n",
            " [-6.82318628e-01  7.46612772e-02]\n",
            " [-6.82523847e-01  7.06083477e-02]\n",
            " [-6.80979609e-01  7.33434334e-02]\n",
            " [-6.77724421e-01  7.84427598e-02]\n",
            " [-6.72042847e-01  8.78540799e-02]\n",
            " [-6.69878244e-01  9.26499069e-02]\n",
            " [-6.71242893e-01  9.06051695e-02]\n",
            " [-6.67252243e-01  9.93846059e-02]\n",
            " [-6.63973391e-01  1.01398259e-01]\n",
            " [-6.59398079e-01  1.07763872e-01]\n",
            " [-6.51051939e-01  1.23941816e-01]\n",
            " [-6.48389220e-01  1.22565635e-01]\n",
            " [-6.45376205e-01  1.35170922e-01]\n",
            " [-6.47931278e-01  1.28187954e-01]\n",
            " [-6.44206643e-01  1.42703563e-01]\n",
            " [-6.45099282e-01  1.42100275e-01]\n",
            " [-6.48536325e-01  1.36013448e-01]\n",
            " [-6.48878217e-01  1.35313481e-01]\n",
            " [-6.53154016e-01  1.19966730e-01]\n",
            " [-6.49509192e-01  1.29049361e-01]\n",
            " [-6.45662069e-01  1.28189027e-01]\n",
            " [-6.42060518e-01  1.35519162e-01]\n",
            " [-6.42677367e-01  1.37415379e-01]\n",
            " [-6.47908986e-01  1.24404229e-01]\n",
            " [-6.43419564e-01  1.32976681e-01]\n",
            " [-6.35362685e-01  1.47165835e-01]\n",
            " [-6.35356545e-01  1.44680962e-01]\n",
            " [-6.39926970e-01  1.45493031e-01]\n",
            " [-6.51585698e-01  1.27987921e-01]\n",
            " [-6.58411026e-01  1.21486239e-01]\n",
            " [-6.66035831e-01  1.05418682e-01]\n",
            " [-6.69989109e-01  9.91765335e-02]\n",
            " [-6.70446575e-01  9.69920903e-02]\n",
            " [-6.72557652e-01  8.95191282e-02]\n",
            " [-6.71708226e-01  8.93055722e-02]\n",
            " [-6.67415202e-01  9.00825486e-02]\n",
            " [-6.63091421e-01  8.92275423e-02]\n",
            " [-6.59664631e-01  9.03771222e-02]\n",
            " [-6.55342638e-01  9.13805366e-02]]\n",
            "(256, 2)\n"
          ]
        }
      ],
      "source": [
        "for x,y in test_univariate.take(1):\n",
        "    print(x.shape)\n",
        "    pr= simple_lstm_model.predict(x)\n",
        "    print(pr)\n",
        "    print(pr.shape)"
      ]
    },
    {
      "cell_type": "code",
      "execution_count": null,
      "metadata": {
        "colab": {
          "base_uri": "https://localhost:8080/"
        },
        "id": "dA5sE1VbILBB",
        "outputId": "f64549f8-bdb8-486a-ff21-9535f1488ed7"
      },
      "outputs": [
        {
          "output_type": "stream",
          "name": "stdout",
          "text": [
            "714\n",
            "100\n"
          ]
        }
      ],
      "source": [
        "STEPS_PER_EPOCH = x_train.shape[0]//BATCH_SIZE\n",
        "VAL_STEPS = x_val.shape[0]//BATCH_SIZE\n",
        "print(STEPS_PER_EPOCH)\n",
        "print(VAL_STEPS)"
      ]
    },
    {
      "cell_type": "code",
      "execution_count": null,
      "metadata": {
        "id": "vBPuPTFdpo_4"
      },
      "outputs": [],
      "source": [
        "callback_early = EarlyStopping(monitor='val_loss', mode='min', patience=10)\n",
        "\n",
        "#callback_checkpoint= ModelCheckpoint(filepath='/tmp/checkpoints',monitor='val_loss', mode='min',save_best_only=True)"
      ]
    },
    {
      "cell_type": "code",
      "execution_count": null,
      "metadata": {
        "colab": {
          "base_uri": "https://localhost:8080/"
        },
        "id": "KAOWMJ8EHISz",
        "outputId": "a45e1a3f-6a0d-471d-e4ba-ccb4af526433"
      },
      "outputs": [
        {
          "output_type": "stream",
          "name": "stdout",
          "text": [
            "Epoch 1/120\n",
            "714/714 [==============================] - 15s 16ms/step - loss: 286.2926 - val_loss: 277.8630\n",
            "Epoch 2/120\n",
            "714/714 [==============================] - 11s 16ms/step - loss: 270.7020 - val_loss: 253.6177\n",
            "Epoch 3/120\n",
            "714/714 [==============================] - 11s 15ms/step - loss: 243.1583 - val_loss: 219.1819\n",
            "Epoch 4/120\n",
            "714/714 [==============================] - 11s 16ms/step - loss: 205.7989 - val_loss: 179.0989\n",
            "Epoch 5/120\n",
            "714/714 [==============================] - 11s 15ms/step - loss: 159.9658 - val_loss: 127.9853\n",
            "Epoch 6/120\n",
            "714/714 [==============================] - 11s 16ms/step - loss: 106.4608 - val_loss: 65.7052\n",
            "Epoch 7/120\n",
            "714/714 [==============================] - 11s 15ms/step - loss: 45.7800 - val_loss: 4.3203\n",
            "Epoch 8/120\n",
            "714/714 [==============================] - 11s 15ms/step - loss: 4.4085 - val_loss: 3.8561\n",
            "Epoch 9/120\n",
            "714/714 [==============================] - 11s 15ms/step - loss: 3.9592 - val_loss: 4.6959\n",
            "Epoch 10/120\n",
            "714/714 [==============================] - 11s 15ms/step - loss: 3.8783 - val_loss: 4.8258\n",
            "Epoch 11/120\n",
            "714/714 [==============================] - 11s 15ms/step - loss: 3.8346 - val_loss: 6.6806\n",
            "Epoch 12/120\n",
            "714/714 [==============================] - 11s 15ms/step - loss: 3.7697 - val_loss: 4.8849\n",
            "Epoch 13/120\n",
            "714/714 [==============================] - 11s 15ms/step - loss: 3.7146 - val_loss: 4.8025\n",
            "Epoch 14/120\n",
            "714/714 [==============================] - 11s 15ms/step - loss: 3.6630 - val_loss: 4.5387\n",
            "Epoch 15/120\n",
            "714/714 [==============================] - 11s 15ms/step - loss: 3.6055 - val_loss: 4.3591\n",
            "Epoch 16/120\n",
            "714/714 [==============================] - 11s 15ms/step - loss: 3.5697 - val_loss: 4.1562\n",
            "Epoch 17/120\n",
            "714/714 [==============================] - 11s 16ms/step - loss: 3.5437 - val_loss: 3.8089\n",
            "Epoch 18/120\n",
            "714/714 [==============================] - 12s 16ms/step - loss: 3.5188 - val_loss: 4.1386\n",
            "Epoch 19/120\n",
            "714/714 [==============================] - 11s 15ms/step - loss: 3.5403 - val_loss: 4.2559\n",
            "Epoch 20/120\n",
            "714/714 [==============================] - 11s 15ms/step - loss: 3.5208 - val_loss: 4.5390\n",
            "Epoch 21/120\n",
            "714/714 [==============================] - 11s 15ms/step - loss: 3.5098 - val_loss: 4.9032\n",
            "Epoch 22/120\n",
            "714/714 [==============================] - 11s 15ms/step - loss: 3.5040 - val_loss: 5.1372\n",
            "Epoch 23/120\n",
            "714/714 [==============================] - 11s 15ms/step - loss: 3.5028 - val_loss: 5.4003\n",
            "Epoch 24/120\n",
            "714/714 [==============================] - 11s 16ms/step - loss: 3.5018 - val_loss: 4.6334\n",
            "Epoch 25/120\n",
            "714/714 [==============================] - 11s 15ms/step - loss: 3.4528 - val_loss: 5.1288\n",
            "Epoch 26/120\n",
            "714/714 [==============================] - 11s 15ms/step - loss: 3.4491 - val_loss: 4.2899\n",
            "Epoch 27/120\n",
            "714/714 [==============================] - 11s 15ms/step - loss: 3.4129 - val_loss: 4.8115\n"
          ]
        }
      ],
      "source": [
        "EPOCHS=120\n",
        "history = simple_lstm_model.fit(train_univariate, epochs=EPOCHS,steps_per_epoch=STEPS_PER_EPOCH,callbacks=[callback_early], validation_data=val_univariate, validation_steps = VAL_STEPS)\n",
        "#history = simple_lstm_model.fit(train_univariate, epochs=EPOCHS)"
      ]
    },
    {
      "cell_type": "code",
      "execution_count": null,
      "metadata": {
        "id": "k-ynSIjbz5O2",
        "colab": {
          "base_uri": "https://localhost:8080/",
          "height": 295
        },
        "outputId": "05249595-05da-4c09-dd6b-b00730d47e76"
      },
      "outputs": [
        {
          "output_type": "display_data",
          "data": {
            "text/plain": [
              "<Figure size 432x288 with 1 Axes>"
            ],
            "image/png": "[encoded data removed]"
          },
          "metadata": {
            "needs_background": "light"
          }
        }
      ],
      "source": [
        "loss = history.history['loss']\n",
        "val_loss = history.history['val_loss']\n",
        "epochs = range(1, len(loss)+1)\n",
        "plt.plot(epochs, loss, 'b', label='Training loss')\n",
        "plt.plot(epochs, val_loss, 'orange', label='Validation loss')\n",
        "plt.title('Loss')\n",
        "plt.xlabel('Epochs')\n",
        "plt.ylabel('loss')\n",
        "plt.legend()\n",
        "plt.show()"
      ]
    },
    {
      "cell_type": "code",
      "execution_count": null,
      "metadata": {
        "id": "FpcSufuUDLaD",
        "colab": {
          "base_uri": "https://localhost:8080/"
        },
        "outputId": "aa051344-e8c6-4ddf-db88-cf21886749c7"
      },
      "outputs": [
        {
          "output_type": "stream",
          "name": "stdout",
          "text": [
            "1607/1607 [==============================] - 10s 6ms/step\n",
            "[[291.50085 291.71863]\n",
            " [291.24496 291.45117]\n",
            " [291.24738 291.4537 ]\n",
            " ...\n",
            " [281.13846 281.0348 ]\n",
            " [281.13174 281.02753]\n",
            " [281.12222 281.0172 ]]\n",
            "(51411, 2)\n"
          ]
        }
      ],
      "source": [
        "prediction= simple_lstm_model.predict(x_test_scaled)\n",
        "print(prediction)\n",
        "print(prediction.shape)"
      ]
    },
    {
      "cell_type": "code",
      "execution_count": null,
      "metadata": {
        "id": "KO8uXes0Dz-n",
        "colab": {
          "base_uri": "https://localhost:8080/"
        },
        "outputId": "891dc1f6-cc4e-46e5-f240-7140c17bfde2"
      },
      "outputs": [
        {
          "output_type": "stream",
          "name": "stdout",
          "text": [
            "55.730987190371486\n",
            "6.249083826819253\n"
          ]
        }
      ],
      "source": [
        "print(mean_squared_error(y_test,prediction))\n",
        "print(mean_absolute_error(y_test,prediction))"
      ]
    },
    {
      "cell_type": "code",
      "execution_count": null,
      "metadata": {
        "id": "t9-rXWKZ89C_"
      },
      "outputs": [],
      "source": [
        "prediction_plt=np.concatenate(prediction, axis=0)"
      ]
    },
    {
      "cell_type": "code",
      "execution_count": null,
      "metadata": {
        "id": "Q6GVCuVb9ViU"
      },
      "outputs": [],
      "source": [
        "prediction_len=len(prediction_plt)"
      ]
    },
    {
      "cell_type": "code",
      "execution_count": null,
      "metadata": {
        "id": "EUiaQPnqEh2B",
        "colab": {
          "base_uri": "https://localhost:8080/",
          "height": 513
        },
        "outputId": "216db769-1aaf-45bc-be83-3087a87d5b10"
      },
      "outputs": [
        {
          "output_type": "display_data",
          "data": {
            "text/plain": [
              "<Figure size 864x576 with 1 Axes>"
            ],
            "image/png": "[encoded data removed]"
          },
          "metadata": {
            "needs_background": "light"
          }
        }
      ],
      "source": [
        "plt.figure(figsize=(12,8))\n",
        "plt.title('Prediction comparison')\n",
        "plt.xlabel('Time-Step')\n",
        "plt.ylabel('temperature')\n",
        "plt.plot(np.arange(0,prediction_len),test_plt,color=\"green\", label=\"Test data\")\n",
        "plt.plot(np.arange(0,prediction_len),prediction_plt,color=\"orange\",label=\"Prediction data\", alpha=0.6)\n",
        "plt.legend(loc=\"upper left\")\n",
        "plt.show()"
      ]
    },
    {
      "cell_type": "code",
      "execution_count": null,
      "metadata": {
        "id": "wH4QJC4FKPj3",
        "colab": {
          "base_uri": "https://localhost:8080/",
          "height": 371
        },
        "outputId": "ee8e1054-0984-4d75-9482-f82191c7fdc1"
      },
      "outputs": [
        {
          "output_type": "display_data",
          "data": {
            "text/plain": [
              "<Figure size 1440x576 with 1 Axes>"
            ],
            "image/png": "[encoded data removed]"
          },
          "metadata": {
            "needs_background": "light"
          }
        }
      ],
      "source": [
        "plt.figure(figsize=(20,8))\n",
        "plt.title('Splitted data ')\n",
        "plt.xlabel('Time-Step')\n",
        "plt.ylabel('temperature')\n",
        "plt.plot(np.arange(0,train_len),train_plt, label=\"Train data\", color=\"blue\")\n",
        "plt.plot(np.arange(train_len,val_len),val_plt, label=\"Validation data\", color=\"blue\")\n",
        "plt.plot(np.arange(val_len,test_len),test_plt, label=\"Test data\", color=\"green\")\n",
        "plt.plot(np.arange(val_len,test_len),prediction_plt, label=\"Model prediction data\", color=\"orange\", alpha=0.5)\n",
        "plt.legend(loc=\"upper left\")\n",
        "plt.show()"
      ]
    },
    {
      "cell_type": "code",
      "execution_count": null,
      "metadata": {
        "id": "ZD2T8J15L9HB",
        "colab": {
          "base_uri": "https://localhost:8080/",
          "height": 371
        },
        "outputId": "44bced05-4ae8-4238-a74f-e816638fed7a"
      },
      "outputs": [
        {
          "output_type": "display_data",
          "data": {
            "text/plain": [
              "<Figure size 1440x576 with 1 Axes>"
            ],
            "image/png": "[encoded data removed]"
          },
          "metadata": {
            "needs_background": "light"
          }
        }
      ],
      "source": [
        "plt.figure(figsize=(20,8))\n",
        "plt.title('Splitted data ')\n",
        "plt.xlabel('Time-Step')\n",
        "plt.ylabel('temperature')\n",
        "plt.plot(np.arange(0,train_len),train_plt, label=\"Train data\", color=\"blue\")\n",
        "plt.plot(np.arange(train_len,val_len),val_plt, label=\"Validation data\", color=\"blue\")\n",
        "plt.plot(np.arange(val_len,test_len),test_plt, label=\"Test data\", color=\"green\")\n",
        "plt.legend(loc=\"upper left\")\n",
        "plt.show()"
      ]
    },
    {
      "cell_type": "code",
      "execution_count": null,
      "metadata": {
        "id": "RnJr__YwMAQZ",
        "colab": {
          "base_uri": "https://localhost:8080/",
          "height": 371
        },
        "outputId": "e70ecb76-b413-4361-c766-94dcd4bf26ca"
      },
      "outputs": [
        {
          "output_type": "display_data",
          "data": {
            "text/plain": [
              "<Figure size 1440x576 with 1 Axes>"
            ],
            "image/png": "[encoded data removed]"
          },
          "metadata": {
            "needs_background": "light"
          }
        }
      ],
      "source": [
        "plt.figure(figsize=(20,8))\n",
        "plt.title('Splitted data ')\n",
        "plt.xlabel('Time-Step')\n",
        "plt.ylabel('temperature')\n",
        "plt.plot(np.arange(0,train_len),train_plt, label=\"Train data\", color=\"blue\")\n",
        "plt.plot(np.arange(train_len,val_len),val_plt, label=\"Validation data\", color=\"blue\")\n",
        "plt.plot(np.arange(val_len,test_len),prediction_plt, label=\"Model prediction data\", color=\"orange\")\n",
        "plt.legend(loc=\"upper left\")\n",
        "plt.show()"
      ]
    }
  ],
  "metadata": {
    "accelerator": "GPU",
    "colab": {
      "collapsed_sections": [
        "dFR5jgJisLx_",
        "IJFJnhrvCwB7"
      ],
      "machine_shape": "hm",
      "provenance": [],
      "toc_visible": true
    },
    "gpuClass": "standard",
    "kernelspec": {
      "display_name": "Python 3",
      "name": "python3"
    },
    "language_info": {
      "name": "python"
    }
  },
  "nbformat": 4,
  "nbformat_minor": 0
}